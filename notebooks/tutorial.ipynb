{
 "cells": [
  {
   "cell_type": "markdown",
   "metadata": {},
   "source": [
    "# Setup Environment"
   ]
  },
  {
   "cell_type": "code",
   "execution_count": null,
   "metadata": {},
   "outputs": [],
   "source": [
    "%load_ext autoreload\n",
    "import os\n",
    "import sys\n",
    "\n",
    "current_dir = os.getcwd()\n",
    "parent_dir = os.path.dirname(current_dir)\n",
    "path_to_add = os.path.join(parent_dir, \"src\")\n",
    "sys.path.insert(0, path_to_add)"
   ]
  },
  {
   "cell_type": "markdown",
   "metadata": {},
   "source": [
    "# Get Data\n",
    "\n",
    "## Free text comments"
   ]
  },
  {
   "cell_type": "code",
   "execution_count": null,
   "metadata": {},
   "outputs": [],
   "source": [
    "import requests\n",
    "import pandas as pd\n",
    "import janitor\n",
    "\n",
    "# URL of the endpoint\n",
    "url = \"https://data.austintexas.gov/resource/jeyv-db9u.json\"\n",
    "\n",
    "# Fetch the data from the API\n",
    "response = requests.get(url)\n",
    "\n",
    "# Check if the request was successful\n",
    "if response.status_code == 200:\n",
    "    # Convert the JSON data to a pandas DataFrame\n",
    "    df = pd.DataFrame(response.json()).clean_names()\n",
    "else:\n",
    "    print(f\"Failed to fetch data. Status code: {response.status_code}\")"
   ]
  },
  {
   "cell_type": "markdown",
   "metadata": {},
   "source": [
    "## Questions data (likert)"
   ]
  },
  {
   "cell_type": "code",
   "execution_count": null,
   "metadata": {},
   "outputs": [],
   "source": [
    "url_likert = \"https://data.austintexas.gov/resource/s2py-ceb7.json\"\n",
    "data_dictionary = \"https://data.austintexas.gov/api/views/s2py-ceb7/columns.json\"\n",
    "\n",
    "response = requests.get(url_likert)\n",
    "if response.status_code == 200:\n",
    "    # Convert the JSON data to a pandas DataFrame\n",
    "    dfq = pd.DataFrame(response.json())\n",
    "else:\n",
    "    print(f\"Failed to fetch data. Status code: {response.status_code}\")"
   ]
  },
  {
   "cell_type": "code",
   "execution_count": null,
   "metadata": {},
   "outputs": [],
   "source": [
    "likert_columns = ['the_city_of_austin_as_a_place_1', 'the_city_of_austin_as_a_place_2',\n",
    "       'the_city_of_austin_as_a_place_3', 'overall_quality_of_life_in',]\n",
    "\n",
    "column_rename = {'the_city_of_austin_as_a_place_1' : 'place to work',\n",
    "                 'the_city_of_austin_as_a_place_2' : 'place to raise children',\n",
    "                 'the_city_of_austin_as_a_place_3' : 'place to retire',\n",
    "                 'overall_quality_of_life_in' : 'overall quality of life in the city'}\n",
    "\n",
    "dfq = dfq.rename_columns(column_rename)\n",
    "\n",
    "likert_encoded = [\"likert_encoded_\" + col for col in column_rename.values()]"
   ]
  },
  {
   "cell_type": "code",
   "execution_count": null,
   "metadata": {},
   "outputs": [],
   "source": [
    "dfq.columns"
   ]
  },
  {
   "cell_type": "code",
   "execution_count": null,
   "metadata": {},
   "outputs": [],
   "source": [
    "%autoreload 2\n",
    "from pandas_survey_toolkit import analytics, nlp, vis\n",
    "from pandas_survey_toolkit.vis import cluster_heatmap_plot\n"
   ]
  },
  {
   "cell_type": "code",
   "execution_count": null,
   "metadata": {},
   "outputs": [],
   "source": [
    "dfq2 = dfq.cluster_questions(column_rename.values())"
   ]
  },
  {
   "cell_type": "code",
   "execution_count": null,
   "metadata": {},
   "outputs": [],
   "source": [
    "cluster_heatmap_plot(dfq2, x=\"question_cluster_id\", y = likert_encoded)"
   ]
  },
  {
   "cell_type": "code",
   "execution_count": null,
   "metadata": {},
   "outputs": [],
   "source": [
    "dfq.cluster_questions()"
   ]
  },
  {
   "cell_type": "code",
   "execution_count": null,
   "metadata": {},
   "outputs": [],
   "source": [
    "dfq.to_excel('austin_likert.xlsx')"
   ]
  },
  {
   "cell_type": "code",
   "execution_count": null,
   "metadata": {},
   "outputs": [],
   "source": []
  },
  {
   "cell_type": "code",
   "execution_count": 3,
   "metadata": {},
   "outputs": [
    {
     "name": "stderr",
     "output_type": "stream",
     "text": [
      "c:\\Users\\LONAL23\\OneDrive - PA Consulting Group\\7 - Data Scientist\\pandas-survey-toolkit\\.venv\\Lib\\site-packages\\transformers\\utils\\generic.py:311: FutureWarning: `torch.utils._pytree._register_pytree_node` is deprecated. Please use `torch.utils._pytree.register_pytree_node` instead.\n",
      "  torch.utils._pytree._register_pytree_node(\n"
     ]
    }
   ],
   "source": [
    "%autoreload 2\n",
    "from pandas_survey_toolkit import analytics, nlp, vis\n",
    "from pandas_survey_toolkit.vis import create_keyword_graph, visualize_keyword_graph,visualize_keyword_graph_force, create_keyword_sentiment_df_simple, create_sentiment_color_mapping"
   ]
  },
  {
   "cell_type": "code",
   "execution_count": 13,
   "metadata": {},
   "outputs": [],
   "source": [
    "df2 = df2.extract_keywords(\"response\", top_n=4, ngram_range=(1,1), min_df=4, keyword_min_count=5)#.extract_sentiment(\"response\")"
   ]
  },
  {
   "cell_type": "code",
   "execution_count": 14,
   "metadata": {},
   "outputs": [],
   "source": [
    "from functools import reduce\n",
    "kw = reduce(lambda x,y : x | y, df2.refined_keywords.map(lambda x: set(x)))\n",
    "kw_old = reduce(lambda x,y : x | y, df2.keywords.map(lambda x: set(x)))"
   ]
  },
  {
   "cell_type": "code",
   "execution_count": 16,
   "metadata": {},
   "outputs": [
    {
     "data": {
      "text/plain": [
       "103"
      ]
     },
     "execution_count": 16,
     "metadata": {},
     "output_type": "execute_result"
    }
   ],
   "source": [
    "len(kw)"
   ]
  },
  {
   "cell_type": "code",
   "execution_count": 18,
   "metadata": {},
   "outputs": [
    {
     "name": "stdout",
     "output_type": "stream",
     "text": [
      "Graph saved to keyword_sentiment_graph.html\n"
     ]
    }
   ],
   "source": [
    "sentiment_df = create_keyword_sentiment_df_simple(df2)\n",
    "sentiment_df = sentiment_df.query(\"word != 'not'\")\n",
    "color_mapping = create_sentiment_color_mapping(sentiment_df)\n",
    "\n",
    "G = create_keyword_graph(df2, 'keywords', node_color_mapping=color_mapping)\n",
    "G.remove_node(\"not\")\n",
    "visualize_keyword_graph_force(G, output_file='keyword_sentiment_graph.html', colormap='RdBu', min_edge_count=2, min_node_count=1)"
   ]
  },
  {
   "cell_type": "code",
   "execution_count": null,
   "metadata": {},
   "outputs": [],
   "source": []
  }
 ],
 "metadata": {
  "kernelspec": {
   "display_name": ".venv",
   "language": "python",
   "name": "python3"
  },
  "language_info": {
   "codemirror_mode": {
    "name": "ipython",
    "version": 3
   },
   "file_extension": ".py",
   "mimetype": "text/x-python",
   "name": "python",
   "nbconvert_exporter": "python",
   "pygments_lexer": "ipython3",
   "version": "3.11.9"
  }
 },
 "nbformat": 4,
 "nbformat_minor": 2
}
