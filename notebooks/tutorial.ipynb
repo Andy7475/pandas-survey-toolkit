{
 "cells": [
  {
   "cell_type": "markdown",
   "metadata": {},
   "source": [
    "# Setup Environment"
   ]
  },
  {
   "cell_type": "code",
   "execution_count": null,
   "metadata": {},
   "outputs": [],
   "source": [
    "%load_ext autoreload\n",
    "import os\n",
    "import sys\n",
    "\n",
    "current_dir = os.getcwd()\n",
    "parent_dir = os.path.dirname(current_dir)\n",
    "path_to_add = os.path.join(parent_dir, \"src\")\n",
    "sys.path.insert(0, path_to_add)"
   ]
  },
  {
   "cell_type": "markdown",
   "metadata": {},
   "source": [
    "# Get Data\n",
    "\n",
    "## Free text comments"
   ]
  },
  {
   "cell_type": "code",
   "execution_count": null,
   "metadata": {},
   "outputs": [],
   "source": [
    "import requests\n",
    "import pandas as pd\n",
    "import janitor\n",
    "\n",
    "# URL of the endpoint\n",
    "url = \"https://data.austintexas.gov/resource/jeyv-db9u.json\"\n",
    "\n",
    "# Fetch the data from the API\n",
    "response = requests.get(url)\n",
    "\n",
    "# Check if the request was successful\n",
    "if response.status_code == 200:\n",
    "    # Convert the JSON data to a pandas DataFrame\n",
    "    df = pd.DataFrame(response.json()).clean_names()\n",
    "else:\n",
    "    print(f\"Failed to fetch data. Status code: {response.status_code}\")"
   ]
  },
  {
   "cell_type": "markdown",
   "metadata": {},
   "source": [
    "## Questions data (likert)"
   ]
  },
  {
   "cell_type": "code",
   "execution_count": 23,
   "metadata": {},
   "outputs": [],
   "source": [
    "url_likert = \"https://data.austintexas.gov/resource/s2py-ceb7.json\"\n",
    "data_dictionary_url = \"https://data.austintexas.gov/api/views/s2py-ceb7/columns.json\"\n",
    "\n",
    "url = \"https://data.austintexas.gov/dataset/Community-Survey/s2py-ceb7/about_data\"\n",
    "\n",
    "response = requests.get(url_likert)\n",
    "if response.status_code == 200:\n",
    "    # Convert the JSON data to a pandas DataFrame\n",
    "    dfq = pd.DataFrame(response.json())\n",
    "else:\n",
    "    print(f\"Failed to fetch data. Status code: {response.status_code}\")\n",
    "\n",
    "data_dictionary = requests.get(data_dictionary_url)\n",
    "if response.status_code == 200:\n",
    "    data_dictionary = data_dictionary.json()\n",
    "else:\n",
    "    print(f\"Failed {response.status_code}\")"
   ]
  },
  {
   "cell_type": "code",
   "execution_count": 45,
   "metadata": {},
   "outputs": [
    {
     "name": "stderr",
     "output_type": "stream",
     "text": [
      "C:\\Users\\LONAL23\\AppData\\Local\\Temp\\ipykernel_10856\\3871446373.py:1: DtypeWarning: Columns (7,9,10,12,13,14,15,16,17,18,19,20,21,25,30,31,32,36,37,38,39,42,43,44,62,63,64,65,73,80,83,85,86,87,88,89,90,91,92,93,94,95,96,99,100,104,111,113,114,115,116,117,118,119,123,124,125,126,127,128,129,135,136,137,144,145,147,148,149,150,151,152,153,154,155,156,157,158,159,160,161,162,172,173,189,190,191,192,193,199,200,201,204,205,209,212,213,214,215,216,217,218,219,220,223,233,234,235,236,237,238,239,241,243,244,245,246,247,248,249,250) have mixed types. Specify dtype option on import or set low_memory=False.\n",
      "  dfl = pd.read_csv(\"../data/Community_Survey_20240911.csv\")\n"
     ]
    }
   ],
   "source": [
    "dfl = pd.read_csv(\"../data/Community_Survey_20240911.csv\")"
   ]
  },
  {
   "cell_type": "code",
   "execution_count": null,
   "metadata": {},
   "outputs": [],
   "source": [
    "likert_columns = ['the_city_of_austin_as_a_place_1', 'the_city_of_austin_as_a_place_2',\n",
    "       'the_city_of_austin_as_a_place_3', 'overall_quality_of_life_in',]\n",
    "\n",
    "column_rename = {'the_city_of_austin_as_a_place_1' : 'place to work',\n",
    "                 'the_city_of_austin_as_a_place_2' : 'place to raise children',\n",
    "                 'the_city_of_austin_as_a_place_3' : 'place to retire',\n",
    "                 'overall_quality_of_life_in' : 'overall quality of life in the city'}\n",
    "\n",
    "dfq = dfq.rename_columns(column_rename)\n",
    "\n",
    "likert_encoded = [\"likert_encoded_\" + col for col in column_rename.values()]"
   ]
  },
  {
   "cell_type": "code",
   "execution_count": 48,
   "metadata": {},
   "outputs": [
    {
     "name": "stderr",
     "output_type": "stream",
     "text": [
      "<>:1: DeprecationWarning: invalid escape sequence '\\d'\n",
      "<>:1: DeprecationWarning: invalid escape sequence '\\d'\n",
      "C:\\Users\\LONAL23\\AppData\\Local\\Temp\\ipykernel_10856\\1564922980.py:1: DeprecationWarning: invalid escape sequence '\\d'\n",
      "  dfl.filter(regex=\"Q\\d.*\")\n"
     ]
    },
    {
     "data": {
      "text/html": [
       "<div>\n",
       "<style scoped>\n",
       "    .dataframe tbody tr th:only-of-type {\n",
       "        vertical-align: middle;\n",
       "    }\n",
       "\n",
       "    .dataframe tbody tr th {\n",
       "        vertical-align: top;\n",
       "    }\n",
       "\n",
       "    .dataframe thead th {\n",
       "        text-align: right;\n",
       "    }\n",
       "</style>\n",
       "<table border=\"1\" class=\"dataframe\">\n",
       "  <thead>\n",
       "    <tr style=\"text-align: right;\">\n",
       "      <th></th>\n",
       "      <th>Q2A - If you are dissatisfied with any of the items listed in Quality of Life, why?</th>\n",
       "      <th>Q4A - If you are dissatisfied with any of the items listed in Economic Opportunity and Affordability, why?</th>\n",
       "      <th>Q6A - If you are dissatisfied with any of the items listed in Health and Environment, why?</th>\n",
       "      <th>Q8A - If you are dissatisfied with any of the items listed in Safety, why?</th>\n",
       "      <th>Q10A - If you are dissatisfied with any of the items listed in Mobility, why?</th>\n",
       "      <th>Q12A - If you are dissatisfied with any of the items listed in Culture and Lifelong Learning, why?</th>\n",
       "      <th>Q14A - If you are dissatisfied with any of the items listed in Government that Works for All, why?</th>\n",
       "      <th>Q14A - Government that Works for All Topics</th>\n",
       "      <th>Q25 - If there was one thing you could share with the Mayor regarding the City of Austin (any comment, suggestion, etc.), what would it be?</th>\n",
       "      <th>Q25 - One thing to share with Mayor Topics</th>\n",
       "    </tr>\n",
       "  </thead>\n",
       "  <tbody>\n",
       "    <tr>\n",
       "      <th>0</th>\n",
       "      <td>NaN</td>\n",
       "      <td>NaN</td>\n",
       "      <td>NaN</td>\n",
       "      <td>NaN</td>\n",
       "      <td>NaN</td>\n",
       "      <td>NaN</td>\n",
       "      <td>NaN</td>\n",
       "      <td>NaN</td>\n",
       "      <td>NaN</td>\n",
       "      <td>NaN</td>\n",
       "    </tr>\n",
       "    <tr>\n",
       "      <th>1</th>\n",
       "      <td>NaN</td>\n",
       "      <td>NaN</td>\n",
       "      <td>NaN</td>\n",
       "      <td>NaN</td>\n",
       "      <td>NaN</td>\n",
       "      <td>NaN</td>\n",
       "      <td>NaN</td>\n",
       "      <td>NaN</td>\n",
       "      <td>NaN</td>\n",
       "      <td>NaN</td>\n",
       "    </tr>\n",
       "    <tr>\n",
       "      <th>2</th>\n",
       "      <td>NaN</td>\n",
       "      <td>NaN</td>\n",
       "      <td>NaN</td>\n",
       "      <td>NaN</td>\n",
       "      <td>NaN</td>\n",
       "      <td>NaN</td>\n",
       "      <td>NaN</td>\n",
       "      <td>NaN</td>\n",
       "      <td>NaN</td>\n",
       "      <td>NaN</td>\n",
       "    </tr>\n",
       "    <tr>\n",
       "      <th>3</th>\n",
       "      <td>NaN</td>\n",
       "      <td>NaN</td>\n",
       "      <td>NaN</td>\n",
       "      <td>NaN</td>\n",
       "      <td>NaN</td>\n",
       "      <td>NaN</td>\n",
       "      <td>NaN</td>\n",
       "      <td>NaN</td>\n",
       "      <td>NaN</td>\n",
       "      <td>NaN</td>\n",
       "    </tr>\n",
       "    <tr>\n",
       "      <th>4</th>\n",
       "      <td>NaN</td>\n",
       "      <td>NaN</td>\n",
       "      <td>NaN</td>\n",
       "      <td>NaN</td>\n",
       "      <td>NaN</td>\n",
       "      <td>NaN</td>\n",
       "      <td>NaN</td>\n",
       "      <td>NaN</td>\n",
       "      <td>NaN</td>\n",
       "      <td>NaN</td>\n",
       "    </tr>\n",
       "    <tr>\n",
       "      <th>...</th>\n",
       "      <td>...</td>\n",
       "      <td>...</td>\n",
       "      <td>...</td>\n",
       "      <td>...</td>\n",
       "      <td>...</td>\n",
       "      <td>...</td>\n",
       "      <td>...</td>\n",
       "      <td>...</td>\n",
       "      <td>...</td>\n",
       "      <td>...</td>\n",
       "    </tr>\n",
       "    <tr>\n",
       "      <th>10679</th>\n",
       "      <td>NaN</td>\n",
       "      <td>PLANNING FOR GROWTH HAS BEEN REACTIVE INSTEAD ...</td>\n",
       "      <td>NaN</td>\n",
       "      <td>NaN</td>\n",
       "      <td>NaN</td>\n",
       "      <td>NaN</td>\n",
       "      <td>NaN</td>\n",
       "      <td>NaN</td>\n",
       "      <td>THE CITY HAS TO GET A PLAN THAT WILL ADDRESS T...</td>\n",
       "      <td>NaN</td>\n",
       "    </tr>\n",
       "    <tr>\n",
       "      <th>10680</th>\n",
       "      <td>NaN</td>\n",
       "      <td>NaN</td>\n",
       "      <td>THE CITY KEEPS BUILDING HIDEOUS APARTMENT COMP...</td>\n",
       "      <td>HOMELESS PEOPLE 0R BAD GUYS IN PARKS EARLY MOR...</td>\n",
       "      <td>NaN</td>\n",
       "      <td>NaN</td>\n",
       "      <td>YOU CAN COMMUNICATE BUT THE CITY DOESN'T LISTE...</td>\n",
       "      <td>NaN</td>\n",
       "      <td>DON'T BUILD THE STADIUM ON MCCALLA ARE YOU KID...</td>\n",
       "      <td>NaN</td>\n",
       "    </tr>\n",
       "    <tr>\n",
       "      <th>10681</th>\n",
       "      <td>Too expensive to live and retire</td>\n",
       "      <td>The city doesn't plan for enough in advance.</td>\n",
       "      <td>Traffic to park (is) too much.</td>\n",
       "      <td>Homeless harass you walking downtown. Not safe...</td>\n",
       "      <td>Streets are too narrow. Taking up a lane for b...</td>\n",
       "      <td>NaN</td>\n",
       "      <td>Do not feel that the city treats everyone equa...</td>\n",
       "      <td>NaN</td>\n",
       "      <td>I truly don't believe he will do anything for ...</td>\n",
       "      <td>NaN</td>\n",
       "    </tr>\n",
       "    <tr>\n",
       "      <th>10682</th>\n",
       "      <td>NaN</td>\n",
       "      <td>The growth Austin has experienced is overwhelm...</td>\n",
       "      <td>The rising cost of pool access has caused my h...</td>\n",
       "      <td>Regarding statement I feel safe in my neighbor...</td>\n",
       "      <td>Regarding traffic flow, toll lanes/roads are n...</td>\n",
       "      <td>Why are city streets, schools, buildings named...</td>\n",
       "      <td>Low rating aimed at the overall performance of...</td>\n",
       "      <td>NaN</td>\n",
       "      <td>The input/output ratio of tax money/services i...</td>\n",
       "      <td>NaN</td>\n",
       "    </tr>\n",
       "    <tr>\n",
       "      <th>10683</th>\n",
       "      <td>NaN</td>\n",
       "      <td>AUSTIN ENERGY IS ARROGANT, I DON'T LIKE SMART ...</td>\n",
       "      <td>I DON'T WANT SODIUM FLOURIDE IN MY WATER ITS B...</td>\n",
       "      <td>APD PULLED ME OVER FOR A LIGHT BULB BEING OUT ...</td>\n",
       "      <td>TRAFFIC SIGNALS ARE BRUTAL HERE THEY MAKE TRAF...</td>\n",
       "      <td>NaN</td>\n",
       "      <td>NaN</td>\n",
       "      <td>NaN</td>\n",
       "      <td>THERE AR MANY CRAZY PEOPLE WHO WANT FLOURIDE O...</td>\n",
       "      <td>NaN</td>\n",
       "    </tr>\n",
       "  </tbody>\n",
       "</table>\n",
       "<p>10684 rows × 10 columns</p>\n",
       "</div>"
      ],
      "text/plain": [
       "      Q2A - If you are dissatisfied with any of the items listed in Quality of Life, why?  \\\n",
       "0                                                    NaN                                    \n",
       "1                                                    NaN                                    \n",
       "2                                                    NaN                                    \n",
       "3                                                    NaN                                    \n",
       "4                                                    NaN                                    \n",
       "...                                                  ...                                    \n",
       "10679                                                NaN                                    \n",
       "10680                                                NaN                                    \n",
       "10681                   Too expensive to live and retire                                    \n",
       "10682                                                NaN                                    \n",
       "10683                                                NaN                                    \n",
       "\n",
       "      Q4A - If you are dissatisfied with any of the items listed in Economic Opportunity and Affordability, why?  \\\n",
       "0                                                    NaN                                                           \n",
       "1                                                    NaN                                                           \n",
       "2                                                    NaN                                                           \n",
       "3                                                    NaN                                                           \n",
       "4                                                    NaN                                                           \n",
       "...                                                  ...                                                           \n",
       "10679  PLANNING FOR GROWTH HAS BEEN REACTIVE INSTEAD ...                                                           \n",
       "10680                                                NaN                                                           \n",
       "10681       The city doesn't plan for enough in advance.                                                           \n",
       "10682  The growth Austin has experienced is overwhelm...                                                           \n",
       "10683  AUSTIN ENERGY IS ARROGANT, I DON'T LIKE SMART ...                                                           \n",
       "\n",
       "      Q6A - If you are dissatisfied with any of the items listed in Health and Environment, why?  \\\n",
       "0                                                    NaN                                           \n",
       "1                                                    NaN                                           \n",
       "2                                                    NaN                                           \n",
       "3                                                    NaN                                           \n",
       "4                                                    NaN                                           \n",
       "...                                                  ...                                           \n",
       "10679                                                NaN                                           \n",
       "10680  THE CITY KEEPS BUILDING HIDEOUS APARTMENT COMP...                                           \n",
       "10681                     Traffic to park (is) too much.                                           \n",
       "10682  The rising cost of pool access has caused my h...                                           \n",
       "10683  I DON'T WANT SODIUM FLOURIDE IN MY WATER ITS B...                                           \n",
       "\n",
       "      Q8A - If you are dissatisfied with any of the items listed in Safety, why?  \\\n",
       "0                                                    NaN                           \n",
       "1                                                    NaN                           \n",
       "2                                                    NaN                           \n",
       "3                                                    NaN                           \n",
       "4                                                    NaN                           \n",
       "...                                                  ...                           \n",
       "10679                                                NaN                           \n",
       "10680  HOMELESS PEOPLE 0R BAD GUYS IN PARKS EARLY MOR...                           \n",
       "10681  Homeless harass you walking downtown. Not safe...                           \n",
       "10682  Regarding statement I feel safe in my neighbor...                           \n",
       "10683  APD PULLED ME OVER FOR A LIGHT BULB BEING OUT ...                           \n",
       "\n",
       "      Q10A - If you are dissatisfied with any of the items listed in Mobility, why?  \\\n",
       "0                                                    NaN                              \n",
       "1                                                    NaN                              \n",
       "2                                                    NaN                              \n",
       "3                                                    NaN                              \n",
       "4                                                    NaN                              \n",
       "...                                                  ...                              \n",
       "10679                                                NaN                              \n",
       "10680                                                NaN                              \n",
       "10681  Streets are too narrow. Taking up a lane for b...                              \n",
       "10682  Regarding traffic flow, toll lanes/roads are n...                              \n",
       "10683  TRAFFIC SIGNALS ARE BRUTAL HERE THEY MAKE TRAF...                              \n",
       "\n",
       "      Q12A - If you are dissatisfied with any of the items listed in Culture and Lifelong Learning, why?  \\\n",
       "0                                                    NaN                                                   \n",
       "1                                                    NaN                                                   \n",
       "2                                                    NaN                                                   \n",
       "3                                                    NaN                                                   \n",
       "4                                                    NaN                                                   \n",
       "...                                                  ...                                                   \n",
       "10679                                                NaN                                                   \n",
       "10680                                                NaN                                                   \n",
       "10681                                                NaN                                                   \n",
       "10682  Why are city streets, schools, buildings named...                                                   \n",
       "10683                                                NaN                                                   \n",
       "\n",
       "      Q14A - If you are dissatisfied with any of the items listed in Government that Works for All, why?  \\\n",
       "0                                                    NaN                                                   \n",
       "1                                                    NaN                                                   \n",
       "2                                                    NaN                                                   \n",
       "3                                                    NaN                                                   \n",
       "4                                                    NaN                                                   \n",
       "...                                                  ...                                                   \n",
       "10679                                                NaN                                                   \n",
       "10680  YOU CAN COMMUNICATE BUT THE CITY DOESN'T LISTE...                                                   \n",
       "10681  Do not feel that the city treats everyone equa...                                                   \n",
       "10682  Low rating aimed at the overall performance of...                                                   \n",
       "10683                                                NaN                                                   \n",
       "\n",
       "       Q14A - Government that Works for All Topics  \\\n",
       "0                                              NaN   \n",
       "1                                              NaN   \n",
       "2                                              NaN   \n",
       "3                                              NaN   \n",
       "4                                              NaN   \n",
       "...                                            ...   \n",
       "10679                                          NaN   \n",
       "10680                                          NaN   \n",
       "10681                                          NaN   \n",
       "10682                                          NaN   \n",
       "10683                                          NaN   \n",
       "\n",
       "      Q25 - If there was one thing you could share with the Mayor regarding the City of Austin (any comment, suggestion, etc.), what would it be?  \\\n",
       "0                                                    NaN                                                                                            \n",
       "1                                                    NaN                                                                                            \n",
       "2                                                    NaN                                                                                            \n",
       "3                                                    NaN                                                                                            \n",
       "4                                                    NaN                                                                                            \n",
       "...                                                  ...                                                                                            \n",
       "10679  THE CITY HAS TO GET A PLAN THAT WILL ADDRESS T...                                                                                            \n",
       "10680  DON'T BUILD THE STADIUM ON MCCALLA ARE YOU KID...                                                                                            \n",
       "10681  I truly don't believe he will do anything for ...                                                                                            \n",
       "10682  The input/output ratio of tax money/services i...                                                                                            \n",
       "10683  THERE AR MANY CRAZY PEOPLE WHO WANT FLOURIDE O...                                                                                            \n",
       "\n",
       "       Q25 - One thing to share with Mayor Topics  \n",
       "0                                             NaN  \n",
       "1                                             NaN  \n",
       "2                                             NaN  \n",
       "3                                             NaN  \n",
       "4                                             NaN  \n",
       "...                                           ...  \n",
       "10679                                         NaN  \n",
       "10680                                         NaN  \n",
       "10681                                         NaN  \n",
       "10682                                         NaN  \n",
       "10683                                         NaN  \n",
       "\n",
       "[10684 rows x 10 columns]"
      ]
     },
     "execution_count": 48,
     "metadata": {},
     "output_type": "execute_result"
    }
   ],
   "source": [
    "dfl.filter(regex=\"Q\\d.*\")"
   ]
  },
  {
   "cell_type": "code",
   "execution_count": null,
   "metadata": {},
   "outputs": [],
   "source": [
    "%autoreload 2\n",
    "from pandas_survey_toolkit import analytics, nlp, vis\n",
    "from pandas_survey_toolkit.vis import cluster_heatmap_plot\n"
   ]
  },
  {
   "cell_type": "code",
   "execution_count": null,
   "metadata": {},
   "outputs": [],
   "source": [
    "dfq2 = dfq.cluster_questions(column_rename.values())"
   ]
  },
  {
   "cell_type": "code",
   "execution_count": null,
   "metadata": {},
   "outputs": [],
   "source": [
    "cluster_heatmap_plot(dfq2, x=\"question_cluster_id\", y = likert_encoded)"
   ]
  },
  {
   "cell_type": "code",
   "execution_count": null,
   "metadata": {},
   "outputs": [],
   "source": [
    "dfq.cluster_questions()"
   ]
  },
  {
   "cell_type": "code",
   "execution_count": null,
   "metadata": {},
   "outputs": [],
   "source": [
    "dfq.to_excel('austin_likert.xlsx')"
   ]
  },
  {
   "cell_type": "code",
   "execution_count": 20,
   "metadata": {},
   "outputs": [
    {
     "ename": "NameError",
     "evalue": "name 'dfq' is not defined",
     "output_type": "error",
     "traceback": [
      "\u001b[1;31m---------------------------------------------------------------------------\u001b[0m",
      "\u001b[1;31mNameError\u001b[0m                                 Traceback (most recent call last)",
      "Cell \u001b[1;32mIn[20], line 1\u001b[0m\n\u001b[1;32m----> 1\u001b[0m \u001b[43mdfq\u001b[49m\u001b[38;5;241m.\u001b[39mhead()\n",
      "\u001b[1;31mNameError\u001b[0m: name 'dfq' is not defined"
     ]
    }
   ],
   "source": [
    "dfq.head()"
   ]
  },
  {
   "cell_type": "code",
   "execution_count": 3,
   "metadata": {},
   "outputs": [
    {
     "name": "stderr",
     "output_type": "stream",
     "text": [
      "c:\\Users\\LONAL23\\OneDrive - PA Consulting Group\\7 - Data Scientist\\pandas-survey-toolkit\\.venv\\Lib\\site-packages\\transformers\\utils\\generic.py:311: FutureWarning: `torch.utils._pytree._register_pytree_node` is deprecated. Please use `torch.utils._pytree.register_pytree_node` instead.\n",
      "  torch.utils._pytree._register_pytree_node(\n"
     ]
    }
   ],
   "source": [
    "%autoreload 2\n",
    "from pandas_survey_toolkit import analytics, nlp, vis\n",
    "from pandas_survey_toolkit.vis import create_keyword_graph, visualize_keyword_graph,visualize_keyword_graph_force, create_keyword_sentiment_df_simple, create_sentiment_color_mapping"
   ]
  },
  {
   "cell_type": "code",
   "execution_count": 13,
   "metadata": {},
   "outputs": [],
   "source": [
    "df2 = df2.extract_keywords(\"response\", top_n=4, ngram_range=(1,1), min_df=4, keyword_min_count=5)#.extract_sentiment(\"response\")"
   ]
  },
  {
   "cell_type": "code",
   "execution_count": 14,
   "metadata": {},
   "outputs": [],
   "source": [
    "from functools import reduce\n",
    "kw = reduce(lambda x,y : x | y, df2.refined_keywords.map(lambda x: set(x)))\n",
    "kw_old = reduce(lambda x,y : x | y, df2.keywords.map(lambda x: set(x)))"
   ]
  },
  {
   "cell_type": "code",
   "execution_count": 16,
   "metadata": {},
   "outputs": [
    {
     "data": {
      "text/plain": [
       "103"
      ]
     },
     "execution_count": 16,
     "metadata": {},
     "output_type": "execute_result"
    }
   ],
   "source": [
    "len(kw)"
   ]
  },
  {
   "cell_type": "code",
   "execution_count": 18,
   "metadata": {},
   "outputs": [
    {
     "name": "stdout",
     "output_type": "stream",
     "text": [
      "Graph saved to keyword_sentiment_graph.html\n"
     ]
    }
   ],
   "source": [
    "sentiment_df = create_keyword_sentiment_df_simple(df2)\n",
    "sentiment_df = sentiment_df.query(\"word != 'not'\")\n",
    "color_mapping = create_sentiment_color_mapping(sentiment_df)\n",
    "\n",
    "G = create_keyword_graph(df2, 'keywords', node_color_mapping=color_mapping)\n",
    "G.remove_node(\"not\")\n",
    "visualize_keyword_graph_force(G, output_file='keyword_sentiment_graph.html', colormap='RdBu', min_edge_count=2, min_node_count=1)"
   ]
  },
  {
   "cell_type": "code",
   "execution_count": null,
   "metadata": {},
   "outputs": [],
   "source": []
  }
 ],
 "metadata": {
  "kernelspec": {
   "display_name": ".venv",
   "language": "python",
   "name": "python3"
  },
  "language_info": {
   "codemirror_mode": {
    "name": "ipython",
    "version": 3
   },
   "file_extension": ".py",
   "mimetype": "text/x-python",
   "name": "python",
   "nbconvert_exporter": "python",
   "pygments_lexer": "ipython3",
   "version": "3.11.9"
  }
 },
 "nbformat": 4,
 "nbformat_minor": 2
}
