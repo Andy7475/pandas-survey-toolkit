{
 "cells": [
  {
   "cell_type": "markdown",
   "metadata": {},
   "source": [
    "# Setup Environment"
   ]
  },
  {
   "cell_type": "code",
   "execution_count": null,
   "metadata": {},
   "outputs": [],
   "source": [
    "%load_ext autoreload\n",
    "import os\n",
    "import sys\n",
    "\n",
    "current_dir = os.getcwd()\n",
    "parent_dir = os.path.dirname(current_dir)\n",
    "path_to_add = os.path.join(parent_dir, \"src\")\n",
    "sys.path.insert(0, path_to_add)"
   ]
  },
  {
   "cell_type": "markdown",
   "metadata": {},
   "source": [
    "# Get Data\n",
    "\n",
    "## Free text comments"
   ]
  },
  {
   "cell_type": "code",
   "execution_count": 110,
   "metadata": {},
   "outputs": [],
   "source": [
    "import requests\n",
    "import pandas as pd\n",
    "import janitor\n",
    "\n",
    "# URL of the endpoint\n",
    "url = \"https://data.austintexas.gov/resource/jeyv-db9u.json\"\n",
    "\n",
    "# Fetch the data from the API\n",
    "response = requests.get(url)\n",
    "\n",
    "# Check if the request was successful\n",
    "if response.status_code == 200:\n",
    "    # Convert the JSON data to a pandas DataFrame\n",
    "    df = pd.DataFrame(response.json()).clean_names()\n",
    "else:\n",
    "    print(f\"Failed to fetch data. Status code: {response.status_code}\")"
   ]
  },
  {
   "cell_type": "markdown",
   "metadata": {},
   "source": [
    "## Questions data (likert)"
   ]
  },
  {
   "cell_type": "code",
   "execution_count": null,
   "metadata": {},
   "outputs": [],
   "source": [
    "url_likert = \"https://data.austintexas.gov/resource/s2py-ceb7.json\"\n",
    "data_dictionary_url = \"https://data.austintexas.gov/api/views/s2py-ceb7/columns.json\"\n",
    "\n",
    "url = \"https://data.austintexas.gov/dataset/Community-Survey/s2py-ceb7/about_data\"\n",
    "\n",
    "response = requests.get(url_likert)\n",
    "if response.status_code == 200:\n",
    "    # Convert the JSON data to a pandas DataFrame\n",
    "    dfq = pd.DataFrame(response.json())\n",
    "else:\n",
    "    print(f\"Failed to fetch data. Status code: {response.status_code}\")\n",
    "\n",
    "data_dictionary = requests.get(data_dictionary_url)\n",
    "if response.status_code == 200:\n",
    "    data_dictionary = data_dictionary.json()\n",
    "else:\n",
    "    print(f\"Failed {response.status_code}\")"
   ]
  },
  {
   "cell_type": "code",
   "execution_count": null,
   "metadata": {},
   "outputs": [],
   "source": [
    "dfl = pd.read_csv(\"../data/Community_Survey_20240911.csv\")"
   ]
  },
  {
   "cell_type": "code",
   "execution_count": null,
   "metadata": {},
   "outputs": [],
   "source": [
    "likert_columns = ['the_city_of_austin_as_a_place_1', 'the_city_of_austin_as_a_place_2',\n",
    "       'the_city_of_austin_as_a_place_3', 'overall_quality_of_life_in',]\n",
    "\n",
    "column_rename = {'the_city_of_austin_as_a_place_1' : 'place to work',\n",
    "                 'the_city_of_austin_as_a_place_2' : 'place to raise children',\n",
    "                 'the_city_of_austin_as_a_place_3' : 'place to retire',\n",
    "                 'overall_quality_of_life_in' : 'overall quality of life in the city'}\n",
    "\n",
    "dfq = dfq.rename_columns(column_rename)\n",
    "\n",
    "likert_encoded = [\"likert_encoded_\" + col for col in column_rename.values()]"
   ]
  },
  {
   "cell_type": "code",
   "execution_count": null,
   "metadata": {},
   "outputs": [],
   "source": [
    "%autoreload 2\n",
    "from pandas_survey_toolkit import analytics, nlp, vis\n",
    "from pandas_survey_toolkit.vis import cluster_heatmap_plot\n"
   ]
  },
  {
   "cell_type": "code",
   "execution_count": null,
   "metadata": {},
   "outputs": [],
   "source": [
    "dfq2 = dfq.cluster_questions(column_rename.values())"
   ]
  },
  {
   "cell_type": "code",
   "execution_count": null,
   "metadata": {},
   "outputs": [],
   "source": [
    "cluster_heatmap_plot(dfq2, x=\"question_cluster_id\", y = likert_encoded)"
   ]
  },
  {
   "cell_type": "code",
   "execution_count": null,
   "metadata": {},
   "outputs": [],
   "source": [
    "dfq.cluster_questions()"
   ]
  },
  {
   "cell_type": "code",
   "execution_count": null,
   "metadata": {},
   "outputs": [],
   "source": [
    "dfq.to_excel('austin_likert.xlsx')"
   ]
  },
  {
   "cell_type": "code",
   "execution_count": 126,
   "metadata": {},
   "outputs": [],
   "source": [
    "%autoreload 2\n",
    "from pandas_survey_toolkit import analytics, nlp, vis\n",
    "from pandas_survey_toolkit.vis import create_keyword_graph, visualize_keyword_graph,visualize_keyword_graph_force, create_keyword_sentiment_df_simple, create_sentiment_color_mapping"
   ]
  },
  {
   "cell_type": "code",
   "execution_count": 127,
   "metadata": {},
   "outputs": [
    {
     "name": "stdout",
     "output_type": "stream",
     "text": [
      "Refinement complete. Min count used: 5\n",
      "Original average keywords per row: 2.02\n",
      "Refined average keywords per row: 1.90\n",
      "Proportion of rows with keywords after refinement: 85.03%\n",
      "Total unique keywords before refinement: 367\n",
      "Total unique keywords after refinement: 123\n",
      "Reduction in unique keywords: 66.49%\n"
     ]
    }
   ],
   "source": [
    "df2 = df.extract_keywords(\"response\", top_n=4, ngram_range=(1,1), min_df=5, min_proportion_with_keywords=0.85)"
   ]
  },
  {
   "cell_type": "code",
   "execution_count": 124,
   "metadata": {},
   "outputs": [
    {
     "name": "stderr",
     "output_type": "stream",
     "text": [
      "c:\\Users\\LONAL23\\OneDrive - PA Consulting Group\\7 - Data Scientist\\pandas-survey-toolkit\\src\\pandas_survey_toolkit\\nlp.py:22: UserWarning: registration of accessor <class 'pandas_flavor.register.register_dataframe_method.<locals>.inner.<locals>.AccessorMethod'> under name 'cluster_questions' for type <class 'pandas.core.frame.DataFrame'> is overriding a preexisting attribute with the same name.\n",
      "  def cluster_questions(df, columns=None, pattern=None, likert_mapping=None,\n",
      "c:\\Users\\LONAL23\\OneDrive - PA Consulting Group\\7 - Data Scientist\\pandas-survey-toolkit\\src\\pandas_survey_toolkit\\nlp.py:70: UserWarning: registration of accessor <class 'pandas_flavor.register.register_dataframe_method.<locals>.inner.<locals>.AccessorMethod'> under name 'encode_likert' for type <class 'pandas.core.frame.DataFrame'> is overriding a preexisting attribute with the same name.\n",
      "  def encode_likert(df, likert_columns, output_prefix='likert_encoded_', custom_mapping=None, debug=True):\n",
      "c:\\Users\\LONAL23\\OneDrive - PA Consulting Group\\7 - Data Scientist\\pandas-survey-toolkit\\src\\pandas_survey_toolkit\\nlp.py:157: UserWarning: registration of accessor <class 'pandas_flavor.register.register_dataframe_method.<locals>.inner.<locals>.AccessorMethod'> under name 'extract_keywords' for type <class 'pandas.core.frame.DataFrame'> is overriding a preexisting attribute with the same name.\n",
      "  def extract_keywords(df: pd.DataFrame,\n",
      "c:\\Users\\LONAL23\\OneDrive - PA Consulting Group\\7 - Data Scientist\\pandas-survey-toolkit\\src\\pandas_survey_toolkit\\nlp.py:230: UserWarning: registration of accessor <class 'pandas_flavor.register.register_dataframe_method.<locals>.inner.<locals>.AccessorMethod'> under name 'refine_keywords' for type <class 'pandas.core.frame.DataFrame'> is overriding a preexisting attribute with the same name.\n",
      "  df (pd.DataFrame): The input DataFrame.\n",
      "c:\\Users\\LONAL23\\OneDrive - PA Consulting Group\\7 - Data Scientist\\pandas-survey-toolkit\\src\\pandas_survey_toolkit\\nlp.py:323: UserWarning: registration of accessor <class 'pandas_flavor.register.register_dataframe_method.<locals>.inner.<locals>.AccessorMethod'> under name 'remove_short_comments' for type <class 'pandas.core.frame.DataFrame'> is overriding a preexisting attribute with the same name.\n",
      "  embeddings_list = [embedding for embedding in embeddings]\n",
      "c:\\Users\\LONAL23\\OneDrive - PA Consulting Group\\7 - Data Scientist\\pandas-survey-toolkit\\src\\pandas_survey_toolkit\\nlp.py:348: UserWarning: registration of accessor <class 'pandas_flavor.register.register_dataframe_method.<locals>.inner.<locals>.AccessorMethod'> under name 'fit_sentence_transformer' for type <class 'pandas.core.frame.DataFrame'> is overriding a preexisting attribute with the same name.\n",
      "  masked_df, mask = create_masked_df(df, [input_column])\n",
      "c:\\Users\\LONAL23\\OneDrive - PA Consulting Group\\7 - Data Scientist\\pandas-survey-toolkit\\src\\pandas_survey_toolkit\\nlp.py:368: UserWarning: registration of accessor <class 'pandas_flavor.register.register_dataframe_method.<locals>.inner.<locals>.AccessorMethod'> under name 'extract_sentiment' for type <class 'pandas.core.frame.DataFrame'> is overriding a preexisting attribute with the same name.\n",
      "  df_to_return = combine_results(df, masked_df, mask, output_columns)\n",
      "c:\\Users\\LONAL23\\OneDrive - PA Consulting Group\\7 - Data Scientist\\pandas-survey-toolkit\\src\\pandas_survey_toolkit\\nlp.py:408: UserWarning: registration of accessor <class 'pandas_flavor.register.register_dataframe_method.<locals>.inner.<locals>.AccessorMethod'> under name 'cluster_comments' for type <class 'pandas.core.frame.DataFrame'> is overriding a preexisting attribute with the same name.\n",
      "  **tfidf_kwargs: Additional keyword arguments to pass to TfidfVectorizer.\n",
      "c:\\Users\\LONAL23\\OneDrive - PA Consulting Group\\7 - Data Scientist\\pandas-survey-toolkit\\src\\pandas_survey_toolkit\\nlp.py:423: UserWarning: registration of accessor <class 'pandas_flavor.register.register_dataframe_method.<locals>.inner.<locals>.AccessorMethod'> under name 'fit_tfidf' for type <class 'pandas.core.frame.DataFrame'> is overriding a preexisting attribute with the same name.\n",
      "  \n",
      "c:\\Users\\LONAL23\\OneDrive - PA Consulting Group\\7 - Data Scientist\\pandas-survey-toolkit\\src\\pandas_survey_toolkit\\nlp.py:492: UserWarning: registration of accessor <class 'pandas_flavor.register.register_dataframe_method.<locals>.inner.<locals>.AccessorMethod'> under name 'fit_spacy' for type <class 'pandas.core.frame.DataFrame'> is overriding a preexisting attribute with the same name.\n",
      "  remove_punct: bool = True,\n",
      "c:\\Users\\LONAL23\\OneDrive - PA Consulting Group\\7 - Data Scientist\\pandas-survey-toolkit\\src\\pandas_survey_toolkit\\nlp.py:524: UserWarning: registration of accessor <class 'pandas_flavor.register.register_dataframe_method.<locals>.inner.<locals>.AccessorMethod'> under name 'get_lemma' for type <class 'pandas.core.frame.DataFrame'> is overriding a preexisting attribute with the same name.\n",
      "  \"\"\"\n",
      "c:\\Users\\LONAL23\\OneDrive - PA Consulting Group\\7 - Data Scientist\\pandas-survey-toolkit\\src\\pandas_survey_toolkit\\nlp.py:584: UserWarning: registration of accessor <class 'pandas_flavor.register.register_dataframe_method.<locals>.inner.<locals>.AccessorMethod'> under name 'preprocess_text' for type <class 'pandas.core.frame.DataFrame'> is overriding a preexisting attribute with the same name.\n",
      "  pandas.DataFrame: The input DataFrame with preprocessed text and optionally new columns for short comments, truncation info, and comment length.\n"
     ]
    },
    {
     "data": {
      "text/plain": [
       "0.8503480278422274"
      ]
     },
     "execution_count": 124,
     "metadata": {},
     "output_type": "execute_result"
    }
   ],
   "source": [
    "df2.refined_keywords.map(lambda x : len(x) > 0).mean()"
   ]
  },
  {
   "cell_type": "code",
   "execution_count": 128,
   "metadata": {},
   "outputs": [
    {
     "name": "stderr",
     "output_type": "stream",
     "text": [
      "c:\\Users\\LONAL23\\OneDrive - PA Consulting Group\\7 - Data Scientist\\pandas-survey-toolkit\\.venv\\Lib\\site-packages\\transformers\\modeling_utils.py:484: FutureWarning: You are using `torch.load` with `weights_only=False` (the current default value), which uses the default pickle module implicitly. It is possible to construct malicious pickle data which will execute arbitrary code during unpickling (See https://github.com/pytorch/pytorch/blob/main/SECURITY.md#untrusted-models for more details). In a future release, the default value for `weights_only` will be flipped to `True`. This limits the functions that could be executed during unpickling. Arbitrary objects will no longer be allowed to be loaded via this mode unless they are explicitly allowlisted by the user via `torch.serialization.add_safe_globals`. We recommend you start setting `weights_only=True` for any use case where you don't have full control of the loaded file. Please open an issue on GitHub for any issues related to this experimental feature.\n",
      "  return torch.load(checkpoint_file, map_location=map_location)\n"
     ]
    }
   ],
   "source": [
    "df2 = df2.extract_sentiment(\"response\")"
   ]
  },
  {
   "cell_type": "code",
   "execution_count": null,
   "metadata": {},
   "outputs": [],
   "source": [
    "import datamapplot"
   ]
  },
  {
   "cell_type": "code",
   "execution_count": null,
   "metadata": {},
   "outputs": [],
   "source": [
    "def collect_unique_keywords(df, group_column, keyword_column):\n",
    "    # Define a function to convert list to set and combine sets\n",
    "    def combine_keywords(series):\n",
    "        return set().union(*[set(keywords) for keywords in series if isinstance(keywords, list)])\n",
    "    \n",
    "    # Group by the specified column and aggregate keywords\n",
    "    grouped = df.groupby(group_column)[keyword_column].agg(combine_keywords).reset_index()\n",
    "    \n",
    "    # Rename the aggregated column\n",
    "    grouped = grouped.rename(columns={keyword_column: f'unique_{keyword_column}'})\n",
    "    \n",
    "    return grouped\n",
    "\n",
    "df_labels = collect_unique_keywords(df2, \"cluster\", \"refined_keywords\")"
   ]
  },
  {
   "cell_type": "code",
   "execution_count": null,
   "metadata": {},
   "outputs": [],
   "source": [
    "df2 = df2.merge(df_labels, on=\"cluster\")"
   ]
  },
  {
   "cell_type": "code",
   "execution_count": null,
   "metadata": {},
   "outputs": [],
   "source": [
    "df2[\"labels\"] = df2[\"unique_refined_keywords\"].map(lambda x: \"-\".join(x))"
   ]
  },
  {
   "cell_type": "code",
   "execution_count": null,
   "metadata": {},
   "outputs": [],
   "source": [
    "import numpy as np\n",
    "\n",
    "\n",
    "datamapplot.create_plot(df2[['umap_x', 'umap_y']].values, df2[\"labels\"].values,)# hover_text =df2[\"response\"].values )"
   ]
  },
  {
   "cell_type": "code",
   "execution_count": 129,
   "metadata": {},
   "outputs": [
    {
     "name": "stdout",
     "output_type": "stream",
     "text": [
      "Graph saved to keyword_sentiment_graph.html\n"
     ]
    }
   ],
   "source": [
    "sentiment_df = create_keyword_sentiment_df_simple(df2)\n",
    "sentiment_df = sentiment_df.query(\"word != 'not'\")\n",
    "color_mapping = create_sentiment_color_mapping(sentiment_df)\n",
    "\n",
    "G = create_keyword_graph(df2, 'keywords', node_color_mapping=color_mapping)\n",
    "G.remove_node(\"not\")\n",
    "visualize_keyword_graph_force(G, output_file='keyword_sentiment_graph.html', colormap='RdBu', min_edge_count=2, min_node_count=1)"
   ]
  },
  {
   "cell_type": "code",
   "execution_count": null,
   "metadata": {},
   "outputs": [],
   "source": []
  }
 ],
 "metadata": {
  "kernelspec": {
   "display_name": ".venv",
   "language": "python",
   "name": "python3"
  },
  "language_info": {
   "codemirror_mode": {
    "name": "ipython",
    "version": 3
   },
   "file_extension": ".py",
   "mimetype": "text/x-python",
   "name": "python",
   "nbconvert_exporter": "python",
   "pygments_lexer": "ipython3",
   "version": "3.11.9"
  }
 },
 "nbformat": 4,
 "nbformat_minor": 2
}
