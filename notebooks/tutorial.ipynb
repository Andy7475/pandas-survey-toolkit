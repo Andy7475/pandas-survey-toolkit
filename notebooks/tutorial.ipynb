{
 "cells": [
  {
   "cell_type": "markdown",
   "metadata": {},
   "source": [
    "# Setup Environment"
   ]
  },
  {
   "cell_type": "code",
   "execution_count": 1,
   "metadata": {},
   "outputs": [],
   "source": [
    "%load_ext autoreload\n",
    "import os\n",
    "import sys\n",
    "\n",
    "current_dir = os.getcwd()\n",
    "parent_dir = os.path.dirname(current_dir)\n",
    "path_to_add = os.path.join(parent_dir, \"src\")\n",
    "sys.path.insert(0, path_to_add)"
   ]
  },
  {
   "cell_type": "markdown",
   "metadata": {},
   "source": [
    "# Get Data\n",
    "\n",
    "## Free text comments"
   ]
  },
  {
   "cell_type": "code",
   "execution_count": 2,
   "metadata": {},
   "outputs": [],
   "source": [
    "import requests\n",
    "import pandas as pd\n",
    "import janitor\n",
    "\n",
    "# URL of the endpoint\n",
    "url = \"https://data.austintexas.gov/resource/jeyv-db9u.json\"\n",
    "\n",
    "# Fetch the data from the API\n",
    "response = requests.get(url)\n",
    "\n",
    "# Check if the request was successful\n",
    "if response.status_code == 200:\n",
    "    # Convert the JSON data to a pandas DataFrame\n",
    "    df = pd.DataFrame(response.json()).clean_names()\n",
    "else:\n",
    "    print(f\"Failed to fetch data. Status code: {response.status_code}\")"
   ]
  },
  {
   "cell_type": "markdown",
   "metadata": {},
   "source": [
    "## Questions data (likert)"
   ]
  },
  {
   "cell_type": "code",
   "execution_count": 46,
   "metadata": {},
   "outputs": [],
   "source": [
    "url_likert = \"https://data.austintexas.gov/resource/s2py-ceb7.json\"\n",
    "data_dictionary = \"https://data.austintexas.gov/api/views/s2py-ceb7/columns.json\"\n",
    "\n",
    "response = requests.get(url_likert)\n",
    "if response.status_code == 200:\n",
    "    # Convert the JSON data to a pandas DataFrame\n",
    "    dfq = pd.DataFrame(response.json())\n",
    "else:\n",
    "    print(f\"Failed to fetch data. Status code: {response.status_code}\")"
   ]
  },
  {
   "cell_type": "code",
   "execution_count": 47,
   "metadata": {},
   "outputs": [],
   "source": [
    "likert_columns = ['the_city_of_austin_as_a_place_1', 'the_city_of_austin_as_a_place_2',\n",
    "       'the_city_of_austin_as_a_place_3', 'overall_quality_of_life_in',]\n",
    "\n",
    "column_rename = {'the_city_of_austin_as_a_place_1' : 'place to work',\n",
    "                 'the_city_of_austin_as_a_place_2' : 'place to raise children',\n",
    "                 'the_city_of_austin_as_a_place_3' : 'place to retire',\n",
    "                 'overall_quality_of_life_in' : 'overall quality of life in the city'}\n",
    "\n",
    "dfq = dfq.rename_columns(column_rename)\n",
    "\n",
    "likert_encoded = [\"likert_encoded_\" + col for col in column_rename.values()]"
   ]
  },
  {
   "cell_type": "code",
   "execution_count": 40,
   "metadata": {},
   "outputs": [
    {
     "data": {
      "text/plain": [
       "Index(['id', 'year', 'method', 'the_city_of_austin_as_a_place',\n",
       "       'place to work', 'place to raise children', 'place to retire',\n",
       "       'overall quality of life in the city', 'how_well_the_city_of_austin',\n",
       "       'access_to_affordable_quality',\n",
       "       ...\n",
       "       'date_as_of_date', 'which_of_the_following_best_7',\n",
       "       'which_of_the_following_best_8', 'which_of_the_following_best_6',\n",
       "       'which_of_the_following_best_3', 'which_of_the_following_best_2',\n",
       "       'safety_in_city_parks_and', 'overall_quality_of_planning_1',\n",
       "       'bicycle_accessibility_the', 'overall_maintenance_of_city_1'],\n",
       "      dtype='object', length=159)"
      ]
     },
     "execution_count": 40,
     "metadata": {},
     "output_type": "execute_result"
    }
   ],
   "source": [
    "dfq.columns"
   ]
  },
  {
   "cell_type": "code",
   "execution_count": 54,
   "metadata": {},
   "outputs": [
    {
     "name": "stderr",
     "output_type": "stream",
     "text": [
      "c:\\Users\\LONAL23\\OneDrive - PA Consulting Group\\7 - Data Scientist\\pandas-survey-toolkit\\src\\pandas_survey_toolkit\\nlp.py:21: UserWarning: registration of accessor <class 'pandas_flavor.register.register_dataframe_method.<locals>.inner.<locals>.AccessorMethod'> under name 'cluster_questions' for type <class 'pandas.core.frame.DataFrame'> is overriding a preexisting attribute with the same name.\n",
      "  @pf.register_dataframe_method\n",
      "c:\\Users\\LONAL23\\OneDrive - PA Consulting Group\\7 - Data Scientist\\pandas-survey-toolkit\\src\\pandas_survey_toolkit\\nlp.py:69: UserWarning: registration of accessor <class 'pandas_flavor.register.register_dataframe_method.<locals>.inner.<locals>.AccessorMethod'> under name 'encode_likert' for type <class 'pandas.core.frame.DataFrame'> is overriding a preexisting attribute with the same name.\n",
      "  @pf.register_dataframe_method\n",
      "c:\\Users\\LONAL23\\OneDrive - PA Consulting Group\\7 - Data Scientist\\pandas-survey-toolkit\\src\\pandas_survey_toolkit\\nlp.py:155: UserWarning: registration of accessor <class 'pandas_flavor.register.register_dataframe_method.<locals>.inner.<locals>.AccessorMethod'> under name 'extract_keywords' for type <class 'pandas.core.frame.DataFrame'> is overriding a preexisting attribute with the same name.\n",
      "  @pf.register_dataframe_method\n",
      "c:\\Users\\LONAL23\\OneDrive - PA Consulting Group\\7 - Data Scientist\\pandas-survey-toolkit\\src\\pandas_survey_toolkit\\nlp.py:213: UserWarning: registration of accessor <class 'pandas_flavor.register.register_dataframe_method.<locals>.inner.<locals>.AccessorMethod'> under name 'remove_short_comments' for type <class 'pandas.core.frame.DataFrame'> is overriding a preexisting attribute with the same name.\n",
      "  @pf.register_dataframe_method\n",
      "c:\\Users\\LONAL23\\OneDrive - PA Consulting Group\\7 - Data Scientist\\pandas-survey-toolkit\\src\\pandas_survey_toolkit\\nlp.py:238: UserWarning: registration of accessor <class 'pandas_flavor.register.register_dataframe_method.<locals>.inner.<locals>.AccessorMethod'> under name 'fit_sentence_transformer' for type <class 'pandas.core.frame.DataFrame'> is overriding a preexisting attribute with the same name.\n",
      "  @pf.register_dataframe_method\n",
      "c:\\Users\\LONAL23\\OneDrive - PA Consulting Group\\7 - Data Scientist\\pandas-survey-toolkit\\src\\pandas_survey_toolkit\\nlp.py:258: UserWarning: registration of accessor <class 'pandas_flavor.register.register_dataframe_method.<locals>.inner.<locals>.AccessorMethod'> under name 'extract_sentiment' for type <class 'pandas.core.frame.DataFrame'> is overriding a preexisting attribute with the same name.\n",
      "  @pf.register_dataframe_method\n",
      "c:\\Users\\LONAL23\\OneDrive - PA Consulting Group\\7 - Data Scientist\\pandas-survey-toolkit\\src\\pandas_survey_toolkit\\nlp.py:298: UserWarning: registration of accessor <class 'pandas_flavor.register.register_dataframe_method.<locals>.inner.<locals>.AccessorMethod'> under name 'cluster_comments' for type <class 'pandas.core.frame.DataFrame'> is overriding a preexisting attribute with the same name.\n",
      "  @pf.register_dataframe_method\n",
      "c:\\Users\\LONAL23\\OneDrive - PA Consulting Group\\7 - Data Scientist\\pandas-survey-toolkit\\src\\pandas_survey_toolkit\\nlp.py:313: UserWarning: registration of accessor <class 'pandas_flavor.register.register_dataframe_method.<locals>.inner.<locals>.AccessorMethod'> under name 'fit_tfidf' for type <class 'pandas.core.frame.DataFrame'> is overriding a preexisting attribute with the same name.\n",
      "  @pf.register_dataframe_method\n",
      "c:\\Users\\LONAL23\\OneDrive - PA Consulting Group\\7 - Data Scientist\\pandas-survey-toolkit\\src\\pandas_survey_toolkit\\nlp.py:382: UserWarning: registration of accessor <class 'pandas_flavor.register.register_dataframe_method.<locals>.inner.<locals>.AccessorMethod'> under name 'fit_spacy' for type <class 'pandas.core.frame.DataFrame'> is overriding a preexisting attribute with the same name.\n",
      "  @pf.register_dataframe_method\n",
      "c:\\Users\\LONAL23\\OneDrive - PA Consulting Group\\7 - Data Scientist\\pandas-survey-toolkit\\src\\pandas_survey_toolkit\\nlp.py:414: UserWarning: registration of accessor <class 'pandas_flavor.register.register_dataframe_method.<locals>.inner.<locals>.AccessorMethod'> under name 'get_lemma' for type <class 'pandas.core.frame.DataFrame'> is overriding a preexisting attribute with the same name.\n",
      "  @pf.register_dataframe_method\n",
      "c:\\Users\\LONAL23\\OneDrive - PA Consulting Group\\7 - Data Scientist\\pandas-survey-toolkit\\src\\pandas_survey_toolkit\\nlp.py:474: UserWarning: registration of accessor <class 'pandas_flavor.register.register_dataframe_method.<locals>.inner.<locals>.AccessorMethod'> under name 'preprocess_text' for type <class 'pandas.core.frame.DataFrame'> is overriding a preexisting attribute with the same name.\n",
      "  @pf.register_dataframe_method\n"
     ]
    }
   ],
   "source": [
    "%autoreload 2\n",
    "from pandas_survey_toolkit import analytics, nlp, vis\n",
    "from pandas_survey_toolkit.vis import cluster_heatmap_plot\n"
   ]
  },
  {
   "cell_type": "code",
   "execution_count": 55,
   "metadata": {},
   "outputs": [
    {
     "name": "stdout",
     "output_type": "stream",
     "text": [
      "Using default mapping:\n",
      "-1: Phrases containing 'disagree', 'do not agree', etc.\n",
      " 0: Phrases containing 'neutral', 'neither', 'unsure', etc.\n",
      "+1: Phrases containing 'agree' (but not 'disagree' or 'not agree')\n",
      "NaN: NaN values are preserved\n",
      "  Neutral -> 0: 754 times\n",
      "  Very Satisfied -> 1: 764 times\n",
      "  Satisfied -> 1: 1477 times\n",
      "  Don't Know -> 0: 416 times\n",
      "  Very Dissatisfied -> -1: 201 times\n",
      "  Dissatisfied -> -1: 388 times\n"
     ]
    }
   ],
   "source": [
    "dfq2 = dfq.cluster_questions(column_rename.values())"
   ]
  },
  {
   "cell_type": "code",
   "execution_count": 49,
   "metadata": {},
   "outputs": [
    {
     "data": {
      "text/html": [
       "\n",
       "<style>\n",
       "  #altair-viz-ed0db6c9d9114f41889f5e0c634d273d.vega-embed {\n",
       "    width: 100%;\n",
       "    display: flex;\n",
       "  }\n",
       "\n",
       "  #altair-viz-ed0db6c9d9114f41889f5e0c634d273d.vega-embed details,\n",
       "  #altair-viz-ed0db6c9d9114f41889f5e0c634d273d.vega-embed details summary {\n",
       "    position: relative;\n",
       "  }\n",
       "</style>\n",
       "<div id=\"altair-viz-ed0db6c9d9114f41889f5e0c634d273d\"></div>\n",
       "<script type=\"text/javascript\">\n",
       "  var VEGA_DEBUG = (typeof VEGA_DEBUG == \"undefined\") ? {} : VEGA_DEBUG;\n",
       "  (function(spec, embedOpt){\n",
       "    let outputDiv = document.currentScript.previousElementSibling;\n",
       "    if (outputDiv.id !== \"altair-viz-ed0db6c9d9114f41889f5e0c634d273d\") {\n",
       "      outputDiv = document.getElementById(\"altair-viz-ed0db6c9d9114f41889f5e0c634d273d\");\n",
       "    }\n",
       "    const paths = {\n",
       "      \"vega\": \"https://cdn.jsdelivr.net/npm/vega@5?noext\",\n",
       "      \"vega-lib\": \"https://cdn.jsdelivr.net/npm/vega-lib?noext\",\n",
       "      \"vega-lite\": \"https://cdn.jsdelivr.net/npm/vega-lite@5.20.1?noext\",\n",
       "      \"vega-embed\": \"https://cdn.jsdelivr.net/npm/vega-embed@6?noext\",\n",
       "    };\n",
       "\n",
       "    function maybeLoadScript(lib, version) {\n",
       "      var key = `${lib.replace(\"-\", \"\")}_version`;\n",
       "      return (VEGA_DEBUG[key] == version) ?\n",
       "        Promise.resolve(paths[lib]) :\n",
       "        new Promise(function(resolve, reject) {\n",
       "          var s = document.createElement('script');\n",
       "          document.getElementsByTagName(\"head\")[0].appendChild(s);\n",
       "          s.async = true;\n",
       "          s.onload = () => {\n",
       "            VEGA_DEBUG[key] = version;\n",
       "            return resolve(paths[lib]);\n",
       "          };\n",
       "          s.onerror = () => reject(`Error loading script: ${paths[lib]}`);\n",
       "          s.src = paths[lib];\n",
       "        });\n",
       "    }\n",
       "\n",
       "    function showError(err) {\n",
       "      outputDiv.innerHTML = `<div class=\"error\" style=\"color:red;\">${err}</div>`;\n",
       "      throw err;\n",
       "    }\n",
       "\n",
       "    function displayChart(vegaEmbed) {\n",
       "      vegaEmbed(outputDiv, spec, embedOpt)\n",
       "        .catch(err => showError(`Javascript Error: ${err.message}<br>This usually means there's a typo in your chart specification. See the javascript console for the full traceback.`));\n",
       "    }\n",
       "\n",
       "    if(typeof define === \"function\" && define.amd) {\n",
       "      requirejs.config({paths});\n",
       "      require([\"vega-embed\"], displayChart, err => showError(`Error loading script: ${err.message}`));\n",
       "    } else {\n",
       "      maybeLoadScript(\"vega\", \"5\")\n",
       "        .then(() => maybeLoadScript(\"vega-lite\", \"5.20.1\"))\n",
       "        .then(() => maybeLoadScript(\"vega-embed\", \"6\"))\n",
       "        .catch(showError)\n",
       "        .then(() => displayChart(vegaEmbed));\n",
       "    }\n",
       "  })({\"config\": {\"view\": {\"continuousWidth\": 300, \"continuousHeight\": 300, \"strokeWidth\": 0}, \"axis\": {\"labelLimit\": 350}}, \"vconcat\": [{\"layer\": [{\"mark\": {\"type\": \"bar\"}, \"encoding\": {\"tooltip\": [{\"field\": \"question_cluster_id\", \"title\": \"Cluster ID\", \"type\": \"ordinal\"}, {\"field\": \"count\", \"title\": \"Count\", \"type\": \"quantitative\"}], \"x\": {\"field\": \"question_cluster_id\", \"sort\": [4.0, 0.0, 8.0, 10.0, 7.0, 14.0, 1.0, 12.0, 13.0, 11.0, 2.0, 3.0, -1.0, 9.0, 5.0, 6.0], \"title\": \"Cluster ID\", \"type\": \"ordinal\"}, \"y\": {\"field\": \"count\", \"title\": \"Count\", \"type\": \"quantitative\"}}, \"title\": \"Cluster Sizes\"}, {\"mark\": {\"type\": \"text\", \"align\": \"center\", \"baseline\": \"bottom\", \"dy\": -5}, \"encoding\": {\"text\": {\"field\": \"count\", \"type\": \"quantitative\"}, \"tooltip\": [{\"field\": \"question_cluster_id\", \"title\": \"Cluster ID\", \"type\": \"ordinal\"}, {\"field\": \"count\", \"title\": \"Count\", \"type\": \"quantitative\"}], \"x\": {\"field\": \"question_cluster_id\", \"sort\": [4.0, 0.0, 8.0, 10.0, 7.0, 14.0, 1.0, 12.0, 13.0, 11.0, 2.0, 3.0, -1.0, 9.0, 5.0, 6.0], \"title\": \"Cluster ID\", \"type\": \"ordinal\"}, \"y\": {\"field\": \"count\", \"title\": \"Count\", \"type\": \"quantitative\"}}, \"title\": \"Cluster Sizes\"}], \"data\": {\"name\": \"data-4a8fa01d6838b0614097544f06e3b161\"}, \"height\": 100, \"width\": 600}, {\"layer\": [{\"mark\": {\"type\": \"rect\"}, \"encoding\": {\"color\": {\"field\": \"background_color\", \"scale\": null, \"type\": \"nominal\"}, \"tooltip\": [{\"field\": \"question_cluster_id\", \"title\": \"Cluster ID\", \"type\": \"ordinal\"}, {\"field\": \"question\", \"title\": \"Question\", \"type\": \"ordinal\"}, {\"field\": \"percent_positive\", \"format\": \".2%\", \"title\": \"% Positive\", \"type\": \"quantitative\"}, {\"field\": \"percent_negative\", \"format\": \".2%\", \"title\": \"% Negative\", \"type\": \"quantitative\"}, {\"field\": \"percent_neutral\", \"format\": \".2%\", \"title\": \"% Neutral\", \"type\": \"quantitative\"}], \"x\": {\"field\": \"question_cluster_id\", \"sort\": [4.0, 0.0, 8.0, 10.0, 7.0, 14.0, 1.0, 12.0, 13.0, 11.0, 2.0, 3.0, -1.0, 9.0, 5.0, 6.0], \"title\": \"Cluster ID\", \"type\": \"ordinal\"}, \"y\": {\"field\": \"wrapped_question\", \"sort\": [\" place to work\", \" place to raise children\", \" place to retire\", \" overall quality of life in the city\"], \"title\": null, \"type\": \"ordinal\"}}, \"title\": \"Cluster Heatmap: Sentiment Distribution\"}, {\"mark\": {\"type\": \"text\", \"baseline\": \"middle\"}, \"encoding\": {\"color\": {\"field\": \"text_color\", \"scale\": null, \"type\": \"nominal\"}, \"text\": {\"field\": \"percent_positive\", \"format\": \".0%\", \"type\": \"quantitative\"}, \"tooltip\": [{\"field\": \"question_cluster_id\", \"title\": \"Cluster ID\", \"type\": \"ordinal\"}, {\"field\": \"question\", \"title\": \"Question\", \"type\": \"ordinal\"}, {\"field\": \"percent_positive\", \"format\": \".2%\", \"title\": \"% Positive\", \"type\": \"quantitative\"}, {\"field\": \"percent_negative\", \"format\": \".2%\", \"title\": \"% Negative\", \"type\": \"quantitative\"}, {\"field\": \"percent_neutral\", \"format\": \".2%\", \"title\": \"% Neutral\", \"type\": \"quantitative\"}], \"x\": {\"field\": \"question_cluster_id\", \"sort\": [4.0, 0.0, 8.0, 10.0, 7.0, 14.0, 1.0, 12.0, 13.0, 11.0, 2.0, 3.0, -1.0, 9.0, 5.0, 6.0], \"title\": \"Cluster ID\", \"type\": \"ordinal\"}, \"y\": {\"field\": \"wrapped_question\", \"sort\": [\" place to work\", \" place to raise children\", \" place to retire\", \" overall quality of life in the city\"], \"title\": null, \"type\": \"ordinal\"}}, \"title\": \"Cluster Heatmap: Sentiment Distribution\"}], \"data\": {\"name\": \"data-60dff9a55b3a2b30ddc802d8fe9085ad\"}, \"height\": 120, \"width\": 600}], \"$schema\": \"https://vega.github.io/schema/vega-lite/v5.20.1.json\", \"datasets\": {\"data-4a8fa01d6838b0614097544f06e3b161\": [{\"question_cluster_id\": 4.0, \"count\": 219}, {\"question_cluster_id\": 0.0, \"count\": 140}, {\"question_cluster_id\": 8.0, \"count\": 53}, {\"question_cluster_id\": 10.0, \"count\": 25}, {\"question_cluster_id\": 7.0, \"count\": 79}, {\"question_cluster_id\": 14.0, \"count\": 29}, {\"question_cluster_id\": 1.0, \"count\": 111}, {\"question_cluster_id\": 12.0, \"count\": 33}, {\"question_cluster_id\": 13.0, \"count\": 44}, {\"question_cluster_id\": 11.0, \"count\": 20}, {\"question_cluster_id\": 2.0, \"count\": 22}, {\"question_cluster_id\": 3.0, \"count\": 22}, {\"question_cluster_id\": -1.0, \"count\": 51}, {\"question_cluster_id\": 9.0, \"count\": 96}, {\"question_cluster_id\": 5.0, \"count\": 22}, {\"question_cluster_id\": 6.0, \"count\": 34}], \"data-60dff9a55b3a2b30ddc802d8fe9085ad\": [{\"question_cluster_id\": -1.0, \"question\": \" place to work\", \"percent_positive\": 0.39215686274509803, \"percent_negative\": 0.0392156862745098, \"percent_neutral\": 0.5686274509803922, \"wrapped_question\": \" place to work\", \"background_color\": \"#ffffbf\", \"text_color\": \"black\"}, {\"question_cluster_id\": 0.0, \"question\": \" place to work\", \"percent_positive\": 0.9214285714285714, \"percent_negative\": 0.0, \"percent_neutral\": 0.07857142857142863, \"wrapped_question\": \" place to work\", \"background_color\": \"#1a9641\", \"text_color\": \"white\"}, {\"question_cluster_id\": 1.0, \"question\": \" place to work\", \"percent_positive\": 1.0, \"percent_negative\": 0.0, \"percent_neutral\": 0.0, \"wrapped_question\": \" place to work\", \"background_color\": \"#1a9641\", \"text_color\": \"white\"}, {\"question_cluster_id\": 2.0, \"question\": \" place to work\", \"percent_positive\": 0.0, \"percent_negative\": 0.0, \"percent_neutral\": 1.0, \"wrapped_question\": \" place to work\", \"background_color\": \"#f7f7f7\", \"text_color\": \"black\"}, {\"question_cluster_id\": 3.0, \"question\": \" place to work\", \"percent_positive\": 1.0, \"percent_negative\": 0.0, \"percent_neutral\": 0.0, \"wrapped_question\": \" place to work\", \"background_color\": \"#1a9641\", \"text_color\": \"white\"}, {\"question_cluster_id\": 4.0, \"question\": \" place to work\", \"percent_positive\": 0.9360730593607306, \"percent_negative\": 0.0045662100456621, \"percent_neutral\": 0.0593607305936073, \"wrapped_question\": \" place to work\", \"background_color\": \"#1a9641\", \"text_color\": \"white\"}, {\"question_cluster_id\": 5.0, \"question\": \" place to work\", \"percent_positive\": 0.0, \"percent_negative\": 0.0, \"percent_neutral\": 1.0, \"wrapped_question\": \" place to work\", \"background_color\": \"#f7f7f7\", \"text_color\": \"black\"}, {\"question_cluster_id\": 6.0, \"question\": \" place to work\", \"percent_positive\": 0.0, \"percent_negative\": 0.0, \"percent_neutral\": 1.0, \"wrapped_question\": \" place to work\", \"background_color\": \"#f7f7f7\", \"text_color\": \"black\"}, {\"question_cluster_id\": 7.0, \"question\": \" place to work\", \"percent_positive\": 0.8481012658227848, \"percent_negative\": 0.0, \"percent_neutral\": 0.15189873417721522, \"wrapped_question\": \" place to work\", \"background_color\": \"#1a9641\", \"text_color\": \"white\"}, {\"question_cluster_id\": 8.0, \"question\": \" place to work\", \"percent_positive\": 0.8867924528301887, \"percent_negative\": 0.0, \"percent_neutral\": 0.1132075471698113, \"wrapped_question\": \" place to work\", \"background_color\": \"#1a9641\", \"text_color\": \"white\"}, {\"question_cluster_id\": 9.0, \"question\": \" place to work\", \"percent_positive\": 0.0, \"percent_negative\": 0.8229166666666666, \"percent_neutral\": 0.17708333333333337, \"wrapped_question\": \" place to work\", \"background_color\": \"#d7191c\", \"text_color\": \"white\"}, {\"question_cluster_id\": 10.0, \"question\": \" place to work\", \"percent_positive\": 0.92, \"percent_negative\": 0.0, \"percent_neutral\": 0.07999999999999996, \"wrapped_question\": \" place to work\", \"background_color\": \"#1a9641\", \"text_color\": \"white\"}, {\"question_cluster_id\": 11.0, \"question\": \" place to work\", \"percent_positive\": 0.85, \"percent_negative\": 0.0, \"percent_neutral\": 0.15000000000000002, \"wrapped_question\": \" place to work\", \"background_color\": \"#1a9641\", \"text_color\": \"white\"}, {\"question_cluster_id\": 12.0, \"question\": \" place to work\", \"percent_positive\": 0.7575757575757576, \"percent_negative\": 0.0, \"percent_neutral\": 0.24242424242424243, \"wrapped_question\": \" place to work\", \"background_color\": \"#1a9641\", \"text_color\": \"white\"}, {\"question_cluster_id\": 13.0, \"question\": \" place to work\", \"percent_positive\": 0.8636363636363636, \"percent_negative\": 0.0, \"percent_neutral\": 0.13636363636363635, \"wrapped_question\": \" place to work\", \"background_color\": \"#1a9641\", \"text_color\": \"white\"}, {\"question_cluster_id\": 14.0, \"question\": \" place to work\", \"percent_positive\": 0.896551724137931, \"percent_negative\": 0.0, \"percent_neutral\": 0.10344827586206895, \"wrapped_question\": \" place to work\", \"background_color\": \"#1a9641\", \"text_color\": \"white\"}, {\"question_cluster_id\": -1.0, \"question\": \" place to raise children\", \"percent_positive\": 0.1568627450980392, \"percent_negative\": 0.3137254901960784, \"percent_neutral\": 0.5294117647058824, \"wrapped_question\": \" place to raise children\", \"background_color\": \"#f4a582\", \"text_color\": \"black\"}, {\"question_cluster_id\": 0.0, \"question\": \" place to raise children\", \"percent_positive\": 1.0, \"percent_negative\": 0.0, \"percent_neutral\": 0.0, \"wrapped_question\": \" place to raise children\", \"background_color\": \"#1a9641\", \"text_color\": \"white\"}, {\"question_cluster_id\": 1.0, \"question\": \" place to raise children\", \"percent_positive\": 0.0, \"percent_negative\": 0.0, \"percent_neutral\": 1.0, \"wrapped_question\": \" place to raise children\", \"background_color\": \"#f7f7f7\", \"text_color\": \"black\"}, {\"question_cluster_id\": 2.0, \"question\": \" place to raise children\", \"percent_positive\": 0.0, \"percent_negative\": 0.0, \"percent_neutral\": 1.0, \"wrapped_question\": \" place to raise children\", \"background_color\": \"#f7f7f7\", \"text_color\": \"black\"}, {\"question_cluster_id\": 3.0, \"question\": \" place to raise children\", \"percent_positive\": 0.0, \"percent_negative\": 0.0, \"percent_neutral\": 1.0, \"wrapped_question\": \" place to raise children\", \"background_color\": \"#f7f7f7\", \"text_color\": \"black\"}, {\"question_cluster_id\": 4.0, \"question\": \" place to raise children\", \"percent_positive\": 1.0, \"percent_negative\": 0.0, \"percent_neutral\": 0.0, \"wrapped_question\": \" place to raise children\", \"background_color\": \"#1a9641\", \"text_color\": \"white\"}, {\"question_cluster_id\": 5.0, \"question\": \" place to raise children\", \"percent_positive\": 0.0, \"percent_negative\": 0.0, \"percent_neutral\": 1.0, \"wrapped_question\": \" place to raise children\", \"background_color\": \"#f7f7f7\", \"text_color\": \"black\"}, {\"question_cluster_id\": 6.0, \"question\": \" place to raise children\", \"percent_positive\": 0.0, \"percent_negative\": 0.0, \"percent_neutral\": 1.0, \"wrapped_question\": \" place to raise children\", \"background_color\": \"#f7f7f7\", \"text_color\": \"black\"}, {\"question_cluster_id\": 7.0, \"question\": \" place to raise children\", \"percent_positive\": 0.0, \"percent_negative\": 0.06329113924050633, \"percent_neutral\": 0.9367088607594937, \"wrapped_question\": \" place to raise children\", \"background_color\": \"#f4a582\", \"text_color\": \"black\"}, {\"question_cluster_id\": 8.0, \"question\": \" place to raise children\", \"percent_positive\": 1.0, \"percent_negative\": 0.0, \"percent_neutral\": 0.0, \"wrapped_question\": \" place to raise children\", \"background_color\": \"#1a9641\", \"text_color\": \"white\"}, {\"question_cluster_id\": 9.0, \"question\": \" place to raise children\", \"percent_positive\": 0.16666666666666666, \"percent_negative\": 0.53125, \"percent_neutral\": 0.30208333333333337, \"wrapped_question\": \" place to raise children\", \"background_color\": \"#fdae61\", \"text_color\": \"black\"}, {\"question_cluster_id\": 10.0, \"question\": \" place to raise children\", \"percent_positive\": 0.96, \"percent_negative\": 0.0, \"percent_neutral\": 0.040000000000000036, \"wrapped_question\": \" place to raise children\", \"background_color\": \"#1a9641\", \"text_color\": \"white\"}, {\"question_cluster_id\": 11.0, \"question\": \" place to raise children\", \"percent_positive\": 0.0, \"percent_negative\": 1.0, \"percent_neutral\": 0.0, \"wrapped_question\": \" place to raise children\", \"background_color\": \"#d7191c\", \"text_color\": \"white\"}, {\"question_cluster_id\": 12.0, \"question\": \" place to raise children\", \"percent_positive\": 0.0, \"percent_negative\": 0.0, \"percent_neutral\": 1.0, \"wrapped_question\": \" place to raise children\", \"background_color\": \"#f7f7f7\", \"text_color\": \"black\"}, {\"question_cluster_id\": 13.0, \"question\": \" place to raise children\", \"percent_positive\": 0.7272727272727273, \"percent_negative\": 0.022727272727272728, \"percent_neutral\": 0.24999999999999997, \"wrapped_question\": \" place to raise children\", \"background_color\": \"#1a9641\", \"text_color\": \"white\"}, {\"question_cluster_id\": 14.0, \"question\": \" place to raise children\", \"percent_positive\": 1.0, \"percent_negative\": 0.0, \"percent_neutral\": 0.0, \"wrapped_question\": \" place to raise children\", \"background_color\": \"#1a9641\", \"text_color\": \"white\"}, {\"question_cluster_id\": -1.0, \"question\": \" place to retire\", \"percent_positive\": 0.11764705882352941, \"percent_negative\": 0.6274509803921569, \"percent_neutral\": 0.2549019607843137, \"wrapped_question\": \" place to retire\", \"background_color\": \"#d7191c\", \"text_color\": \"white\"}, {\"question_cluster_id\": 0.0, \"question\": \" place to retire\", \"percent_positive\": 0.0, \"percent_negative\": 0.0, \"percent_neutral\": 1.0, \"wrapped_question\": \" place to retire\", \"background_color\": \"#f7f7f7\", \"text_color\": \"black\"}, {\"question_cluster_id\": 1.0, \"question\": \" place to retire\", \"percent_positive\": 0.0, \"percent_negative\": 0.0, \"percent_neutral\": 1.0, \"wrapped_question\": \" place to retire\", \"background_color\": \"#f7f7f7\", \"text_color\": \"black\"}, {\"question_cluster_id\": 2.0, \"question\": \" place to retire\", \"percent_positive\": 0.0, \"percent_negative\": 0.0, \"percent_neutral\": 1.0, \"wrapped_question\": \" place to retire\", \"background_color\": \"#f7f7f7\", \"text_color\": \"black\"}, {\"question_cluster_id\": 3.0, \"question\": \" place to retire\", \"percent_positive\": 0.0, \"percent_negative\": 1.0, \"percent_neutral\": 0.0, \"wrapped_question\": \" place to retire\", \"background_color\": \"#d7191c\", \"text_color\": \"white\"}, {\"question_cluster_id\": 4.0, \"question\": \" place to retire\", \"percent_positive\": 1.0, \"percent_negative\": 0.0, \"percent_neutral\": 0.0, \"wrapped_question\": \" place to retire\", \"background_color\": \"#1a9641\", \"text_color\": \"white\"}, {\"question_cluster_id\": 5.0, \"question\": \" place to retire\", \"percent_positive\": 0.0, \"percent_negative\": 1.0, \"percent_neutral\": 0.0, \"wrapped_question\": \" place to retire\", \"background_color\": \"#d7191c\", \"text_color\": \"white\"}, {\"question_cluster_id\": 6.0, \"question\": \" place to retire\", \"percent_positive\": 0.0, \"percent_negative\": 0.0, \"percent_neutral\": 1.0, \"wrapped_question\": \" place to retire\", \"background_color\": \"#f7f7f7\", \"text_color\": \"black\"}, {\"question_cluster_id\": 7.0, \"question\": \" place to retire\", \"percent_positive\": 1.0, \"percent_negative\": 0.0, \"percent_neutral\": 0.0, \"wrapped_question\": \" place to retire\", \"background_color\": \"#1a9641\", \"text_color\": \"white\"}, {\"question_cluster_id\": 8.0, \"question\": \" place to retire\", \"percent_positive\": 0.0, \"percent_negative\": 1.0, \"percent_neutral\": 0.0, \"wrapped_question\": \" place to retire\", \"background_color\": \"#d7191c\", \"text_color\": \"white\"}, {\"question_cluster_id\": 9.0, \"question\": \" place to retire\", \"percent_positive\": 0.0, \"percent_negative\": 0.8125, \"percent_neutral\": 0.1875, \"wrapped_question\": \" place to retire\", \"background_color\": \"#d7191c\", \"text_color\": \"white\"}, {\"question_cluster_id\": 10.0, \"question\": \" place to retire\", \"percent_positive\": 1.0, \"percent_negative\": 0.0, \"percent_neutral\": 0.0, \"wrapped_question\": \" place to retire\", \"background_color\": \"#1a9641\", \"text_color\": \"white\"}, {\"question_cluster_id\": 11.0, \"question\": \" place to retire\", \"percent_positive\": 0.0, \"percent_negative\": 0.75, \"percent_neutral\": 0.25, \"wrapped_question\": \" place to retire\", \"background_color\": \"#d7191c\", \"text_color\": \"white\"}, {\"question_cluster_id\": 12.0, \"question\": \" place to retire\", \"percent_positive\": 0.0, \"percent_negative\": 1.0, \"percent_neutral\": 0.0, \"wrapped_question\": \" place to retire\", \"background_color\": \"#d7191c\", \"text_color\": \"white\"}, {\"question_cluster_id\": 13.0, \"question\": \" place to retire\", \"percent_positive\": 0.0, \"percent_negative\": 0.8181818181818182, \"percent_neutral\": 0.18181818181818177, \"wrapped_question\": \" place to retire\", \"background_color\": \"#d7191c\", \"text_color\": \"white\"}, {\"question_cluster_id\": 14.0, \"question\": \" place to retire\", \"percent_positive\": 0.0, \"percent_negative\": 0.034482758620689655, \"percent_neutral\": 0.9655172413793104, \"wrapped_question\": \" place to retire\", \"background_color\": \"#f4a582\", \"text_color\": \"black\"}, {\"question_cluster_id\": -1.0, \"question\": \" overall quality of life in the city\", \"percent_positive\": 0.09803921568627451, \"percent_negative\": 0.7254901960784313, \"percent_neutral\": 0.17647058823529416, \"wrapped_question\": \" overall quality of life in the city\", \"background_color\": \"#d7191c\", \"text_color\": \"white\"}, {\"question_cluster_id\": 0.0, \"question\": \" overall quality of life in the city\", \"percent_positive\": 1.0, \"percent_negative\": 0.0, \"percent_neutral\": 0.0, \"wrapped_question\": \" overall quality of life in the city\", \"background_color\": \"#1a9641\", \"text_color\": \"white\"}, {\"question_cluster_id\": 1.0, \"question\": \" overall quality of life in the city\", \"percent_positive\": 0.8738738738738738, \"percent_negative\": 0.0, \"percent_neutral\": 0.12612612612612617, \"wrapped_question\": \" overall quality of life in the city\", \"background_color\": \"#1a9641\", \"text_color\": \"white\"}, {\"question_cluster_id\": 2.0, \"question\": \" overall quality of life in the city\", \"percent_positive\": 1.0, \"percent_negative\": 0.0, \"percent_neutral\": 0.0, \"wrapped_question\": \" overall quality of life in the city\", \"background_color\": \"#1a9641\", \"text_color\": \"white\"}, {\"question_cluster_id\": 3.0, \"question\": \" overall quality of life in the city\", \"percent_positive\": 0.0, \"percent_negative\": 0.0, \"percent_neutral\": 1.0, \"wrapped_question\": \" overall quality of life in the city\", \"background_color\": \"#f7f7f7\", \"text_color\": \"black\"}, {\"question_cluster_id\": 4.0, \"question\": \" overall quality of life in the city\", \"percent_positive\": 1.0, \"percent_negative\": 0.0, \"percent_neutral\": 0.0, \"wrapped_question\": \" overall quality of life in the city\", \"background_color\": \"#1a9641\", \"text_color\": \"white\"}, {\"question_cluster_id\": 5.0, \"question\": \" overall quality of life in the city\", \"percent_positive\": 0.0, \"percent_negative\": 0.0, \"percent_neutral\": 1.0, \"wrapped_question\": \" overall quality of life in the city\", \"background_color\": \"#f7f7f7\", \"text_color\": \"black\"}, {\"question_cluster_id\": 6.0, \"question\": \" overall quality of life in the city\", \"percent_positive\": 0.0, \"percent_negative\": 0.0, \"percent_neutral\": 1.0, \"wrapped_question\": \" overall quality of life in the city\", \"background_color\": \"#f7f7f7\", \"text_color\": \"black\"}, {\"question_cluster_id\": 7.0, \"question\": \" overall quality of life in the city\", \"percent_positive\": 0.8987341772151899, \"percent_negative\": 0.0, \"percent_neutral\": 0.10126582278481011, \"wrapped_question\": \" overall quality of life in the city\", \"background_color\": \"#1a9641\", \"text_color\": \"white\"}, {\"question_cluster_id\": 8.0, \"question\": \" overall quality of life in the city\", \"percent_positive\": 1.0, \"percent_negative\": 0.0, \"percent_neutral\": 0.0, \"wrapped_question\": \" overall quality of life in the city\", \"background_color\": \"#1a9641\", \"text_color\": \"white\"}, {\"question_cluster_id\": 9.0, \"question\": \" overall quality of life in the city\", \"percent_positive\": 0.125, \"percent_negative\": 0.5625, \"percent_neutral\": 0.3125, \"wrapped_question\": \" overall quality of life in the city\", \"background_color\": \"#fdae61\", \"text_color\": \"black\"}, {\"question_cluster_id\": 10.0, \"question\": \" overall quality of life in the city\", \"percent_positive\": 0.0, \"percent_negative\": 0.2, \"percent_neutral\": 0.8, \"wrapped_question\": \" overall quality of life in the city\", \"background_color\": \"#f4a582\", \"text_color\": \"black\"}, {\"question_cluster_id\": 11.0, \"question\": \" overall quality of life in the city\", \"percent_positive\": 0.45, \"percent_negative\": 0.0, \"percent_neutral\": 0.55, \"wrapped_question\": \" overall quality of life in the city\", \"background_color\": \"#a6d96a\", \"text_color\": \"black\"}, {\"question_cluster_id\": 12.0, \"question\": \" overall quality of life in the city\", \"percent_positive\": 1.0, \"percent_negative\": 0.0, \"percent_neutral\": 0.0, \"wrapped_question\": \" overall quality of life in the city\", \"background_color\": \"#1a9641\", \"text_color\": \"white\"}, {\"question_cluster_id\": 13.0, \"question\": \" overall quality of life in the city\", \"percent_positive\": 0.0, \"percent_negative\": 0.5909090909090909, \"percent_neutral\": 0.40909090909090906, \"wrapped_question\": \" overall quality of life in the city\", \"background_color\": \"#fdae61\", \"text_color\": \"black\"}, {\"question_cluster_id\": 14.0, \"question\": \" overall quality of life in the city\", \"percent_positive\": 0.0, \"percent_negative\": 0.0, \"percent_neutral\": 1.0, \"wrapped_question\": \" overall quality of life in the city\", \"background_color\": \"#f7f7f7\", \"text_color\": \"black\"}]}}, {\"mode\": \"vega-lite\"});\n",
       "</script>"
      ],
      "text/plain": [
       "alt.VConcatChart(...)"
      ]
     },
     "execution_count": 49,
     "metadata": {},
     "output_type": "execute_result"
    }
   ],
   "source": [
    "cluster_heatmap_plot(dfq2, x=\"question_cluster_id\", y = likert_encoded)"
   ]
  },
  {
   "cell_type": "code",
   "execution_count": 9,
   "metadata": {},
   "outputs": [
    {
     "data": {
      "text/plain": [
       "Index(['id', 'year', 'method', 'the_city_of_austin_as_a_place',\n",
       "       'the_city_of_austin_as_a_place_1', 'the_city_of_austin_as_a_place_2',\n",
       "       'the_city_of_austin_as_a_place_3', 'overall_quality_of_life_in',\n",
       "       'how_well_the_city_of_austin', 'access_to_affordable_quality',\n",
       "       ...\n",
       "       'which_of_the_following_best_3', 'which_of_the_following_best_2',\n",
       "       'safety_in_city_parks_and', 'overall_quality_of_planning_1',\n",
       "       'bicycle_accessibility_the', 'overall_maintenance_of_city_1',\n",
       "       'likert_encoded_the_city_of_austin_as_a_place_1',\n",
       "       'likert_encoded_the_city_of_austin_as_a_place_2',\n",
       "       'likert_encoded_the_city_of_austin_as_a_place_3',\n",
       "       'likert_encoded_overall_quality_of_life_in'],\n",
       "      dtype='object', length=163)"
      ]
     },
     "execution_count": 9,
     "metadata": {},
     "output_type": "execute_result"
    }
   ],
   "source": [
    "dfq.cluster_questions()"
   ]
  },
  {
   "cell_type": "code",
   "execution_count": 17,
   "metadata": {},
   "outputs": [],
   "source": [
    "dfq.to_excel('austin_likert.xlsx')"
   ]
  },
  {
   "cell_type": "code",
   "execution_count": 4,
   "metadata": {},
   "outputs": [],
   "source": []
  },
  {
   "cell_type": "code",
   "execution_count": 68,
   "metadata": {},
   "outputs": [],
   "source": [
    "%autoreload 2\n",
    "from pandas_survey_toolkit import analytics, nlp, vis\n",
    "from pandas_survey_toolkit.vis import create_keyword_graph, visualize_keyword_graph,visualize_keyword_graph_force, create_keyword_sentiment_df_simple, create_sentiment_color_mapping"
   ]
  },
  {
   "cell_type": "code",
   "execution_count": 70,
   "metadata": {},
   "outputs": [],
   "source": [
    "df2 = df.extract_keywords(\"response\", top_n=4, ngram_range=(1,1), min_df=4).extract_sentiment(\"response\")"
   ]
  },
  {
   "cell_type": "code",
   "execution_count": 71,
   "metadata": {},
   "outputs": [
    {
     "data": {
      "text/plain": [
       "0                     [level, manage]\n",
       "1                     [like, theater]\n",
       "2                                  []\n",
       "3      [need, expansion, accommodate]\n",
       "4                            [update]\n",
       "                    ...              \n",
       "857        [staff, helpful, friendly]\n",
       "858                                []\n",
       "859                            [hope]\n",
       "860      [feature, artist, welcoming]\n",
       "861            [amazing, opportunity]\n",
       "Name: keywords, Length: 862, dtype: object"
      ]
     },
     "execution_count": 71,
     "metadata": {},
     "output_type": "execute_result"
    }
   ],
   "source": [
    "df2.keywords"
   ]
  },
  {
   "cell_type": "code",
   "execution_count": 72,
   "metadata": {},
   "outputs": [
    {
     "name": "stdout",
     "output_type": "stream",
     "text": [
      "Graph saved to keyword_sentiment_graph.html\n"
     ]
    }
   ],
   "source": [
    "sentiment_df = create_keyword_sentiment_df_simple(df2)\n",
    "sentiment_df = sentiment_df.query(\"word != 'not'\")\n",
    "color_mapping = create_sentiment_color_mapping(sentiment_df)\n",
    "\n",
    "G = create_keyword_graph(df2, 'keywords', node_color_mapping=color_mapping)\n",
    "G.remove_node(\"not\")\n",
    "visualize_keyword_graph_force(G, output_file='keyword_sentiment_graph.html', colormap='RdBu', min_edge_count=2, min_node_count=1)"
   ]
  }
 ],
 "metadata": {
  "kernelspec": {
   "display_name": ".venv",
   "language": "python",
   "name": "python3"
  },
  "language_info": {
   "codemirror_mode": {
    "name": "ipython",
    "version": 3
   },
   "file_extension": ".py",
   "mimetype": "text/x-python",
   "name": "python",
   "nbconvert_exporter": "python",
   "pygments_lexer": "ipython3",
   "version": "3.11.9"
  }
 },
 "nbformat": 4,
 "nbformat_minor": 2
}
