{
 "cells": [
  {
   "cell_type": "markdown",
   "metadata": {},
   "source": [
    "# Setup Environment"
   ]
  },
  {
   "cell_type": "code",
   "execution_count": 2,
   "metadata": {},
   "outputs": [],
   "source": [
    "import os\n",
    "import sys\n",
    "\n",
    "current_dir = os.getcwd()\n",
    "parent_dir = os.path.dirname(current_dir)\n",
    "path_to_add = os.path.join(parent_dir, \"src\")\n",
    "sys.path.insert(0, path_to_add)"
   ]
  },
  {
   "cell_type": "markdown",
   "metadata": {},
   "source": [
    "# Get Data"
   ]
  },
  {
   "cell_type": "code",
   "execution_count": 3,
   "metadata": {},
   "outputs": [],
   "source": [
    "import requests\n",
    "import pandas as pd\n",
    "import janitor\n",
    "\n",
    "# URL of the endpoint\n",
    "url = \"https://data.austintexas.gov/resource/jeyv-db9u.json\"\n",
    "\n",
    "# Fetch the data from the API\n",
    "response = requests.get(url)\n",
    "\n",
    "# Check if the request was successful\n",
    "if response.status_code == 200:\n",
    "    # Convert the JSON data to a pandas DataFrame\n",
    "    df = pd.DataFrame(response.json()).clean_names()\n",
    "else:\n",
    "    print(f\"Failed to fetch data. Status code: {response.status_code}\")"
   ]
  },
  {
   "cell_type": "code",
   "execution_count": 4,
   "metadata": {},
   "outputs": [],
   "source": [
    "%load_ext autoreload"
   ]
  },
  {
   "cell_type": "code",
   "execution_count": 68,
   "metadata": {},
   "outputs": [],
   "source": [
    "%autoreload 2\n",
    "from pandas_survey_toolkit import analytics, nlp, vis\n",
    "from pandas_survey_toolkit.vis import create_keyword_graph, visualize_keyword_graph,visualize_keyword_graph_force, create_keyword_sentiment_df_simple, create_sentiment_color_mapping"
   ]
  },
  {
   "cell_type": "code",
   "execution_count": 70,
   "metadata": {},
   "outputs": [],
   "source": [
    "df2 = df.extract_keywords(\"response\", top_n=4, ngram_range=(1,1), min_df=4).extract_sentiment(\"response\")"
   ]
  },
  {
   "cell_type": "code",
   "execution_count": 71,
   "metadata": {},
   "outputs": [
    {
     "data": {
      "text/plain": [
       "0                     [level, manage]\n",
       "1                     [like, theater]\n",
       "2                                  []\n",
       "3      [need, expansion, accommodate]\n",
       "4                            [update]\n",
       "                    ...              \n",
       "857        [staff, helpful, friendly]\n",
       "858                                []\n",
       "859                            [hope]\n",
       "860      [feature, artist, welcoming]\n",
       "861            [amazing, opportunity]\n",
       "Name: keywords, Length: 862, dtype: object"
      ]
     },
     "execution_count": 71,
     "metadata": {},
     "output_type": "execute_result"
    }
   ],
   "source": [
    "df2.keywords"
   ]
  },
  {
   "cell_type": "code",
   "execution_count": 72,
   "metadata": {},
   "outputs": [
    {
     "name": "stdout",
     "output_type": "stream",
     "text": [
      "Graph saved to keyword_sentiment_graph.html\n"
     ]
    }
   ],
   "source": [
    "sentiment_df = create_keyword_sentiment_df_simple(df2)\n",
    "sentiment_df = sentiment_df.query(\"word != 'not'\")\n",
    "color_mapping = create_sentiment_color_mapping(sentiment_df)\n",
    "\n",
    "G = create_keyword_graph(df2, 'keywords', node_color_mapping=color_mapping)\n",
    "G.remove_node(\"not\")\n",
    "visualize_keyword_graph_force(G, output_file='keyword_sentiment_graph.html', colormap='RdBu', min_edge_count=2, min_node_count=1)"
   ]
  }
 ],
 "metadata": {
  "kernelspec": {
   "display_name": ".venv",
   "language": "python",
   "name": "python3"
  },
  "language_info": {
   "codemirror_mode": {
    "name": "ipython",
    "version": 3
   },
   "file_extension": ".py",
   "mimetype": "text/x-python",
   "name": "python",
   "nbconvert_exporter": "python",
   "pygments_lexer": "ipython3",
   "version": "3.11.4"
  }
 },
 "nbformat": 4,
 "nbformat_minor": 2
}
